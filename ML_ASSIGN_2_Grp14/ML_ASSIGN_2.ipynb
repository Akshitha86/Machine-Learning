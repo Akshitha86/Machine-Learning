{
  "nbformat": 4,
  "nbformat_minor": 0,
  "metadata": {
    "colab": {
      "name": "ML_ASSIGN_2.ipynb",
      "provenance": []
    },
    "kernelspec": {
      "name": "python3",
      "display_name": "Python 3"
    },
    "language_info": {
      "name": "python"
    }
  },
  "cells": [
    {
      "cell_type": "markdown",
      "metadata": {
        "id": "Tpt4EWL2ideq"
      },
      "source": [
        "**Libraries**"
      ]
    },
    {
      "cell_type": "code",
      "metadata": {
        "id": "oZtisb3y7rC0"
      },
      "source": [
        "import sys\n",
        "import re                                  # library for regular expression operations\n",
        "import string                              # for string operations\n",
        "import numpy as np\n",
        "import pandas as pd\n",
        "import matplotlib.pyplot as plt\n",
        "from scipy.sparse import csr_matrix\n",
        "\n",
        "import nltk\n",
        "from nltk.corpus import stopwords          # module for stop words that come with NLTK\n",
        "from nltk.stem import PorterStemmer        # module for stemming\n",
        "from nltk.tokenize import TweetTokenizer   # module for tokenizing strings\n"
      ],
      "execution_count": 30,
      "outputs": []
    },
    {
      "cell_type": "code",
      "metadata": {
        "id": "nQnKjfdCr-QB"
      },
      "source": [
        "pd.set_option(\"display.max_colwidth\",200)"
      ],
      "execution_count": 31,
      "outputs": []
    },
    {
      "cell_type": "markdown",
      "metadata": {
        "id": "x47okLjBixXO"
      },
      "source": [
        "**Reading Data**"
      ]
    },
    {
      "cell_type": "code",
      "metadata": {
        "id": "9stceexd7-sT"
      },
      "source": [
        "df = pd.read_csv('train.csv')"
      ],
      "execution_count": 32,
      "outputs": []
    },
    {
      "cell_type": "code",
      "metadata": {
        "colab": {
          "base_uri": "https://localhost:8080/"
        },
        "id": "gt6dzoi78eO1",
        "outputId": "8a8d6fc2-6475-4783-f551-dba1753c7a06"
      },
      "source": [
        "df.info()"
      ],
      "execution_count": 33,
      "outputs": [
        {
          "output_type": "stream",
          "name": "stdout",
          "text": [
            "<class 'pandas.core.frame.DataFrame'>\n",
            "RangeIndex: 31962 entries, 0 to 31961\n",
            "Data columns (total 3 columns):\n",
            " #   Column  Non-Null Count  Dtype \n",
            "---  ------  --------------  ----- \n",
            " 0   id      31962 non-null  int64 \n",
            " 1   label   31962 non-null  int64 \n",
            " 2   tweet   31962 non-null  object\n",
            "dtypes: int64(2), object(1)\n",
            "memory usage: 749.2+ KB\n"
          ]
        }
      ]
    },
    {
      "cell_type": "code",
      "metadata": {
        "colab": {
          "base_uri": "https://localhost:8080/"
        },
        "id": "51MTkSOv8go4",
        "outputId": "04f90cfa-a26a-4d5c-9f1b-8b5d207ae934"
      },
      "source": [
        "df.shape"
      ],
      "execution_count": 34,
      "outputs": [
        {
          "output_type": "execute_result",
          "data": {
            "text/plain": [
              "(31962, 3)"
            ]
          },
          "metadata": {},
          "execution_count": 34
        }
      ]
    },
    {
      "cell_type": "code",
      "metadata": {
        "colab": {
          "base_uri": "https://localhost:8080/"
        },
        "id": "fwhromn78j9A",
        "outputId": "050fd87f-95f6-49e2-c7a8-214f2f3fbc87"
      },
      "source": [
        "print(\"No. of non-racist tweets : {}\".format(df[df['label']==0].shape[0]))\n",
        "print(\"No. of racist tweets : {}\".format(df[df['label']==1].shape[0]))"
      ],
      "execution_count": 35,
      "outputs": [
        {
          "output_type": "stream",
          "name": "stdout",
          "text": [
            "No. of non-racist tweets : 29720\n",
            "No. of racist tweets : 2242\n"
          ]
        }
      ]
    },
    {
      "cell_type": "code",
      "metadata": {
        "colab": {
          "base_uri": "https://localhost:8080/",
          "height": 266
        },
        "id": "rl9YnsdVrRmX",
        "outputId": "08264e97-2df1-4645-c63b-735e89068129"
      },
      "source": [
        "df[df['label']==0].head(7)"
      ],
      "execution_count": 36,
      "outputs": [
        {
          "output_type": "execute_result",
          "data": {
            "text/html": [
              "<div>\n",
              "<style scoped>\n",
              "    .dataframe tbody tr th:only-of-type {\n",
              "        vertical-align: middle;\n",
              "    }\n",
              "\n",
              "    .dataframe tbody tr th {\n",
              "        vertical-align: top;\n",
              "    }\n",
              "\n",
              "    .dataframe thead th {\n",
              "        text-align: right;\n",
              "    }\n",
              "</style>\n",
              "<table border=\"1\" class=\"dataframe\">\n",
              "  <thead>\n",
              "    <tr style=\"text-align: right;\">\n",
              "      <th></th>\n",
              "      <th>id</th>\n",
              "      <th>label</th>\n",
              "      <th>tweet</th>\n",
              "    </tr>\n",
              "  </thead>\n",
              "  <tbody>\n",
              "    <tr>\n",
              "      <th>0</th>\n",
              "      <td>1</td>\n",
              "      <td>0</td>\n",
              "      <td>@user when a father is dysfunctional and is so selfish he drags his kids into his dysfunction.   #run</td>\n",
              "    </tr>\n",
              "    <tr>\n",
              "      <th>1</th>\n",
              "      <td>2</td>\n",
              "      <td>0</td>\n",
              "      <td>@user @user thanks for #lyft credit i can't use cause they don't offer wheelchair vans in pdx.    #disapointed #getthanked</td>\n",
              "    </tr>\n",
              "    <tr>\n",
              "      <th>2</th>\n",
              "      <td>3</td>\n",
              "      <td>0</td>\n",
              "      <td>bihday your majesty</td>\n",
              "    </tr>\n",
              "    <tr>\n",
              "      <th>3</th>\n",
              "      <td>4</td>\n",
              "      <td>0</td>\n",
              "      <td>#model   i love u take with u all the time in urð±!!! ððððð¦ð¦ð¦</td>\n",
              "    </tr>\n",
              "    <tr>\n",
              "      <th>4</th>\n",
              "      <td>5</td>\n",
              "      <td>0</td>\n",
              "      <td>factsguide: society now    #motivation</td>\n",
              "    </tr>\n",
              "    <tr>\n",
              "      <th>5</th>\n",
              "      <td>6</td>\n",
              "      <td>0</td>\n",
              "      <td>[2/2] huge fan fare and big talking before they leave. chaos and pay disputes when they get there. #allshowandnogo</td>\n",
              "    </tr>\n",
              "    <tr>\n",
              "      <th>6</th>\n",
              "      <td>7</td>\n",
              "      <td>0</td>\n",
              "      <td>@user camping tomorrow @user @user @user @user @user @user @user dannyâ¦</td>\n",
              "    </tr>\n",
              "  </tbody>\n",
              "</table>\n",
              "</div>"
            ],
            "text/plain": [
              "   id  ...                                                                                                                       tweet\n",
              "0   1  ...                       @user when a father is dysfunctional and is so selfish he drags his kids into his dysfunction.   #run\n",
              "1   2  ...  @user @user thanks for #lyft credit i can't use cause they don't offer wheelchair vans in pdx.    #disapointed #getthanked\n",
              "2   3  ...                                                                                                         bihday your majesty\n",
              "3   4  ...                                      #model   i love u take with u all the time in urð±!!! ðððð\n",
              "ð¦ð¦ð¦  \n",
              "4   5  ...                                                                                      factsguide: society now    #motivation\n",
              "5   6  ...        [2/2] huge fan fare and big talking before they leave. chaos and pay disputes when they get there. #allshowandnogo  \n",
              "6   7  ...                                                   @user camping tomorrow @user @user @user @user @user @user @user dannyâ¦\n",
              "\n",
              "[7 rows x 3 columns]"
            ]
          },
          "metadata": {},
          "execution_count": 36
        }
      ]
    },
    {
      "cell_type": "code",
      "metadata": {
        "colab": {
          "base_uri": "https://localhost:8080/",
          "height": 266
        },
        "id": "ZAaYb06jrXci",
        "outputId": "18ecbf07-27a5-4976-f380-e753458ee5af"
      },
      "source": [
        "df[df['label']==1].head(7)"
      ],
      "execution_count": 37,
      "outputs": [
        {
          "output_type": "execute_result",
          "data": {
            "text/html": [
              "<div>\n",
              "<style scoped>\n",
              "    .dataframe tbody tr th:only-of-type {\n",
              "        vertical-align: middle;\n",
              "    }\n",
              "\n",
              "    .dataframe tbody tr th {\n",
              "        vertical-align: top;\n",
              "    }\n",
              "\n",
              "    .dataframe thead th {\n",
              "        text-align: right;\n",
              "    }\n",
              "</style>\n",
              "<table border=\"1\" class=\"dataframe\">\n",
              "  <thead>\n",
              "    <tr style=\"text-align: right;\">\n",
              "      <th></th>\n",
              "      <th>id</th>\n",
              "      <th>label</th>\n",
              "      <th>tweet</th>\n",
              "    </tr>\n",
              "  </thead>\n",
              "  <tbody>\n",
              "    <tr>\n",
              "      <th>13</th>\n",
              "      <td>14</td>\n",
              "      <td>1</td>\n",
              "      <td>@user #cnn calls #michigan middle school 'build the wall' chant '' #tcot</td>\n",
              "    </tr>\n",
              "    <tr>\n",
              "      <th>14</th>\n",
              "      <td>15</td>\n",
              "      <td>1</td>\n",
              "      <td>no comment!  in #australia   #opkillingbay #seashepherd #helpcovedolphins #thecove  #helpcovedolphins</td>\n",
              "    </tr>\n",
              "    <tr>\n",
              "      <th>17</th>\n",
              "      <td>18</td>\n",
              "      <td>1</td>\n",
              "      <td>retweet if you agree!</td>\n",
              "    </tr>\n",
              "    <tr>\n",
              "      <th>23</th>\n",
              "      <td>24</td>\n",
              "      <td>1</td>\n",
              "      <td>@user @user lumpy says i am a . prove it lumpy.</td>\n",
              "    </tr>\n",
              "    <tr>\n",
              "      <th>34</th>\n",
              "      <td>35</td>\n",
              "      <td>1</td>\n",
              "      <td>it's unbelievable that in the 21st century we'd need something like this. again. #neverump  #xenophobia</td>\n",
              "    </tr>\n",
              "    <tr>\n",
              "      <th>56</th>\n",
              "      <td>57</td>\n",
              "      <td>1</td>\n",
              "      <td>@user lets fight against  #love #peace</td>\n",
              "    </tr>\n",
              "    <tr>\n",
              "      <th>68</th>\n",
              "      <td>69</td>\n",
              "      <td>1</td>\n",
              "      <td>ð©the white establishment can't have blk folx running around loving themselves and promoting our greatness</td>\n",
              "    </tr>\n",
              "  </tbody>\n",
              "</table>\n",
              "</div>"
            ],
            "text/plain": [
              "    id  ...                                                                                                           tweet\n",
              "13  14  ...                                      @user #cnn calls #michigan middle school 'build the wall' chant '' #tcot  \n",
              "14  15  ...           no comment!  in #australia   #opkillingbay #seashepherd #helpcovedolphins #thecove  #helpcovedolphins\n",
              "17  18  ...                                                                                          retweet if you agree! \n",
              "23  24  ...                                                                 @user @user lumpy says i am a . prove it lumpy.\n",
              "34  35  ...        it's unbelievable that in the 21st century we'd need something like this. again. #neverump  #xenophobia \n",
              "56  57  ...                                                                         @user lets fight against  #love #peace \n",
              "68  69  ...  ð©the white establishment can't have blk folx running around loving themselves and promoting our greatness  \n",
              "\n",
              "[7 rows x 3 columns]"
            ]
          },
          "metadata": {},
          "execution_count": 37
        }
      ]
    },
    {
      "cell_type": "markdown",
      "metadata": {
        "id": "rncWKdChi6eb"
      },
      "source": [
        "**Removing symbols , hashtags and shortwords**"
      ]
    },
    {
      "cell_type": "code",
      "metadata": {
        "colab": {
          "base_uri": "https://localhost:8080/",
          "height": 266
        },
        "id": "gdJGl4QFdaPL",
        "outputId": "c59f4010-d746-4b73-81ad-df8b813ce653"
      },
      "source": [
        "df['tweet'] = df['tweet'].str.replace(\"[^a-zA-Z]\",\" \")   # remove hashtags , symbols\n",
        "df['tweet'] = df['tweet'].apply(lambda x: ' '.join([w for w in x.split() if len(w)>3])) \n",
        "#removing words whose length is less than 3\n",
        "df['tweet']= df['tweet'].str.replace(\"user\",\"\")\n",
        "df.head(7)"
      ],
      "execution_count": 38,
      "outputs": [
        {
          "output_type": "execute_result",
          "data": {
            "text/html": [
              "<div>\n",
              "<style scoped>\n",
              "    .dataframe tbody tr th:only-of-type {\n",
              "        vertical-align: middle;\n",
              "    }\n",
              "\n",
              "    .dataframe tbody tr th {\n",
              "        vertical-align: top;\n",
              "    }\n",
              "\n",
              "    .dataframe thead th {\n",
              "        text-align: right;\n",
              "    }\n",
              "</style>\n",
              "<table border=\"1\" class=\"dataframe\">\n",
              "  <thead>\n",
              "    <tr style=\"text-align: right;\">\n",
              "      <th></th>\n",
              "      <th>id</th>\n",
              "      <th>label</th>\n",
              "      <th>tweet</th>\n",
              "    </tr>\n",
              "  </thead>\n",
              "  <tbody>\n",
              "    <tr>\n",
              "      <th>0</th>\n",
              "      <td>1</td>\n",
              "      <td>0</td>\n",
              "      <td>when father dysfunctional selfish drags kids into dysfunction</td>\n",
              "    </tr>\n",
              "    <tr>\n",
              "      <th>1</th>\n",
              "      <td>2</td>\n",
              "      <td>0</td>\n",
              "      <td>thanks lyft credit cause they offer wheelchair vans disapointed getthanked</td>\n",
              "    </tr>\n",
              "    <tr>\n",
              "      <th>2</th>\n",
              "      <td>3</td>\n",
              "      <td>0</td>\n",
              "      <td>bihday your majesty</td>\n",
              "    </tr>\n",
              "    <tr>\n",
              "      <th>3</th>\n",
              "      <td>4</td>\n",
              "      <td>0</td>\n",
              "      <td>model love take with time</td>\n",
              "    </tr>\n",
              "    <tr>\n",
              "      <th>4</th>\n",
              "      <td>5</td>\n",
              "      <td>0</td>\n",
              "      <td>factsguide society motivation</td>\n",
              "    </tr>\n",
              "    <tr>\n",
              "      <th>5</th>\n",
              "      <td>6</td>\n",
              "      <td>0</td>\n",
              "      <td>huge fare talking before they leave chaos disputes when they there allshowandnogo</td>\n",
              "    </tr>\n",
              "    <tr>\n",
              "      <th>6</th>\n",
              "      <td>7</td>\n",
              "      <td>0</td>\n",
              "      <td>camping tomorrow        danny</td>\n",
              "    </tr>\n",
              "  </tbody>\n",
              "</table>\n",
              "</div>"
            ],
            "text/plain": [
              "   id  ...                                                                              tweet\n",
              "0   1  ...                      when father dysfunctional selfish drags kids into dysfunction\n",
              "1   2  ...         thanks lyft credit cause they offer wheelchair vans disapointed getthanked\n",
              "2   3  ...                                                                bihday your majesty\n",
              "3   4  ...                                                          model love take with time\n",
              "4   5  ...                                                      factsguide society motivation\n",
              "5   6  ...  huge fare talking before they leave chaos disputes when they there allshowandnogo\n",
              "6   7  ...                                                      camping tomorrow        danny\n",
              "\n",
              "[7 rows x 3 columns]"
            ]
          },
          "metadata": {},
          "execution_count": 38
        }
      ]
    },
    {
      "cell_type": "markdown",
      "metadata": {
        "id": "9vkrZqo1j6HE"
      },
      "source": [
        "**Remove hyperlinks and retweets**"
      ]
    },
    {
      "cell_type": "code",
      "metadata": {
        "id": "7B5G_OOP8Kox"
      },
      "source": [
        "\n",
        "def remove_hyperlinks_marks_styles(tweet):\n",
        "    \n",
        "    # remove old style retweet text \"RT\"\n",
        "    new_tweet = re.sub(r'^RT[\\s]+', '', tweet)\n",
        "\n",
        "    # remove hyperlinks\n",
        "    new_tweet = re.sub(r'https?:\\/\\/.*[\\r\\n]*', '', new_tweet)\n",
        "    \n",
        "    return new_tweet\n",
        "    "
      ],
      "execution_count": 39,
      "outputs": []
    },
    {
      "cell_type": "markdown",
      "metadata": {
        "id": "UIZPaBnGkJpE"
      },
      "source": [
        "**Tokenize the tweet**"
      ]
    },
    {
      "cell_type": "code",
      "metadata": {
        "id": "Ea5Hoh5F8MCh"
      },
      "source": [
        "# instantiate tokenizer class\n",
        "tokenizer = TweetTokenizer(preserve_case=False, strip_handles=True,reduce_len=True)\n",
        "\n",
        "def tokenize_tweet(tweet):\n",
        "    \n",
        "    tweet_tokens = tokenizer.tokenize(tweet)\n",
        "    \n",
        "    return tweet_tokens\n",
        "    "
      ],
      "execution_count": 40,
      "outputs": []
    },
    {
      "cell_type": "markdown",
      "metadata": {
        "id": "XjkNQ8Z-kA-1"
      },
      "source": [
        "**Remove stopwords and punctuations**"
      ]
    },
    {
      "cell_type": "code",
      "metadata": {
        "colab": {
          "base_uri": "https://localhost:8080/"
        },
        "id": "YxJYNkY98Q0A",
        "outputId": "4c3ec329-3551-41cb-8f57-d0f879452008"
      },
      "source": [
        "nltk.download('stopwords')\n",
        "\n",
        "#Import the english stop words list from NLTK\n",
        "stopwords_english = stopwords.words('english')\n",
        "\n",
        "punctuations = string.punctuation\n",
        "\n",
        "def remove_stopwords_punctuations(tweet_tokens):\n",
        "    \n",
        "    tweets_clean = []\n",
        "    \n",
        "    for word in tweet_tokens:\n",
        "        if (word not in stopwords_english and word not in punctuations):\n",
        "            tweets_clean.append(word)\n",
        "            \n",
        "    return tweets_clean\n",
        "    "
      ],
      "execution_count": 41,
      "outputs": [
        {
          "output_type": "stream",
          "name": "stdout",
          "text": [
            "[nltk_data] Downloading package stopwords to /root/nltk_data...\n",
            "[nltk_data]   Package stopwords is already up-to-date!\n"
          ]
        }
      ]
    },
    {
      "cell_type": "markdown",
      "metadata": {
        "id": "EE23UB58kWGk"
      },
      "source": [
        "**Stemming**"
      ]
    },
    {
      "cell_type": "code",
      "metadata": {
        "id": "f7kZCiIJ8TgZ"
      },
      "source": [
        "stemmer = PorterStemmer()\n",
        "\n",
        "def get_stem(tweets_clean):\n",
        "    \n",
        "    tweets_stem = []\n",
        "    \n",
        "    for word in tweets_clean:\n",
        "        stem_word = stemmer.stem(word)\n",
        "        tweets_stem.append(stem_word)\n",
        "        \n",
        "    return tweets_stem"
      ],
      "execution_count": 42,
      "outputs": []
    },
    {
      "cell_type": "markdown",
      "metadata": {
        "id": "WX9Jz1u8kcOj"
      },
      "source": [
        "**All preprocess techniques with example**"
      ]
    },
    {
      "cell_type": "code",
      "metadata": {
        "id": "Y_8xm1y38UjE"
      },
      "source": [
        "def process_tweet(tweet):\n",
        "    \n",
        "    processed_tweet = remove_hyperlinks_marks_styles(tweet)\n",
        "    tweet_tokens = tokenize_tweet(processed_tweet)\n",
        "    tweets_clean = remove_stopwords_punctuations(tweet_tokens)\n",
        "    tweets_stem = get_stem(tweets_clean)\n",
        "    \n",
        "    return tweets_stem\n",
        "    "
      ],
      "execution_count": 43,
      "outputs": []
    },
    {
      "cell_type": "code",
      "metadata": {
        "colab": {
          "base_uri": "https://localhost:8080/"
        },
        "id": "U1-HLCqH88nC",
        "outputId": "a2da2cac-371c-4978-eeae-7a9776d905c9"
      },
      "source": [
        "tweet_example = df['tweet']\n",
        "print(tweet_example[0])\n",
        "\n",
        "processed_tweet = process_tweet(tweet_example[0])\n",
        "print(processed_tweet)"
      ],
      "execution_count": 44,
      "outputs": [
        {
          "output_type": "stream",
          "name": "stdout",
          "text": [
            " when father dysfunctional selfish drags kids into dysfunction\n",
            "['father', 'dysfunct', 'selfish', 'drag', 'kid', 'dysfunct']\n"
          ]
        }
      ]
    },
    {
      "cell_type": "markdown",
      "metadata": {
        "id": "UXdkn0-bPxLF"
      },
      "source": [
        "**Plot of frequency of most occuring words**"
      ]
    },
    {
      "cell_type": "code",
      "metadata": {
        "colab": {
          "base_uri": "https://localhost:8080/",
          "height": 511
        },
        "id": "KdMt8JYxISrW",
        "outputId": "dc49bd05-2518-47d6-ebb9-c84d89ce98aa"
      },
      "source": [
        "from sklearn.feature_extraction.text import CountVectorizer\n",
        "\n",
        "\n",
        "cv = CountVectorizer(stop_words = 'english')\n",
        "words = cv.fit_transform(df.tweet)\n",
        "\n",
        "sum_words = words.sum(axis=0)\n",
        "\n",
        "words_freq = [(word, sum_words[0, i]) for word, i in cv.vocabulary_.items()]\n",
        "words_freq = sorted(words_freq, key = lambda x: x[1], reverse = True)\n",
        "\n",
        "frequency = pd.DataFrame(words_freq, columns=['word', 'freq'])\n",
        "\n",
        "frequency.head(30).plot(x='word', y='freq', kind='bar', figsize=(15, 7), color = 'blue')\n",
        "plt.title(\"Most Frequently Occuring Words - Top 30\")"
      ],
      "execution_count": 45,
      "outputs": [
        {
          "output_type": "execute_result",
          "data": {
            "text/plain": [
              "Text(0.5, 1.0, 'Most Frequently Occuring Words - Top 30')"
            ]
          },
          "metadata": {},
          "execution_count": 45
        },
        {
          "output_type": "display_data",
          "data": {
            "image/png": "[encoded data removed]",
            "text/plain": [
              "<Figure size 1080x504 with 1 Axes>"
            ]
          },
          "metadata": {
            "needs_background": "light"
          }
        }
      ]
    },
    {
      "cell_type": "markdown",
      "metadata": {
        "id": "DHJhDQGUQHlc"
      },
      "source": [
        "**Plot of freqency of most occuring words in racist tweets**"
      ]
    },
    {
      "cell_type": "code",
      "metadata": {
        "id": "08ODvlRDM51Y"
      },
      "source": [
        "neg_df = pd.DataFrame()\n",
        "neg=[]\n",
        "for tweet,label in zip(df['tweet'],df['label']):\n",
        "  if label==1 :\n",
        "    neg.append(tweet)\n",
        "neg_df['tweet']=neg"
      ],
      "execution_count": 46,
      "outputs": []
    },
    {
      "cell_type": "code",
      "metadata": {
        "colab": {
          "base_uri": "https://localhost:8080/"
        },
        "id": "Tx5BqcAqPpv3",
        "outputId": "61e92c06-c61a-435e-aaa9-f76c4da39ba3"
      },
      "source": [
        "neg_df.info()"
      ],
      "execution_count": 47,
      "outputs": [
        {
          "output_type": "stream",
          "name": "stdout",
          "text": [
            "<class 'pandas.core.frame.DataFrame'>\n",
            "RangeIndex: 2242 entries, 0 to 2241\n",
            "Data columns (total 1 columns):\n",
            " #   Column  Non-Null Count  Dtype \n",
            "---  ------  --------------  ----- \n",
            " 0   tweet   2242 non-null   object\n",
            "dtypes: object(1)\n",
            "memory usage: 17.6+ KB\n"
          ]
        }
      ]
    },
    {
      "cell_type": "code",
      "metadata": {
        "colab": {
          "base_uri": "https://localhost:8080/",
          "height": 518
        },
        "id": "eOED7_CGPbfB",
        "outputId": "b6e9bb06-b120-4cdc-845e-e23129374170"
      },
      "source": [
        "from sklearn.feature_extraction.text import CountVectorizer\n",
        "\n",
        "\n",
        "cv = CountVectorizer(stop_words = 'english')\n",
        "words = cv.fit_transform(neg_df.tweet)\n",
        "\n",
        "sum_words = words.sum(axis=0)\n",
        "\n",
        "words_freq = [(word, sum_words[0, i]) for word, i in cv.vocabulary_.items()]\n",
        "words_freq = sorted(words_freq, key = lambda x: x[1], reverse = True)\n",
        "\n",
        "frequency = pd.DataFrame(words_freq, columns=['word', 'freq'])\n",
        "\n",
        "frequency.head(30).plot(x='word', y='freq', kind='bar', figsize=(15, 7), color = 'blue')\n",
        "plt.title(\"Most Frequently Occuring Racist Words - Top 30\")"
      ],
      "execution_count": 48,
      "outputs": [
        {
          "output_type": "execute_result",
          "data": {
            "text/plain": [
              "Text(0.5, 1.0, 'Most Frequently Occuring Racist Words - Top 30')"
            ]
          },
          "metadata": {},
          "execution_count": 48
        },
        {
          "output_type": "display_data",
          "data": {
            "image/png": "[encoded data removed]",
            "text/plain": [
              "<Figure size 1080x504 with 1 Axes>"
            ]
          },
          "metadata": {
            "needs_background": "light"
          }
        }
      ]
    },
    {
      "cell_type": "markdown",
      "metadata": {
        "id": "yBNMhL9RFkiu"
      },
      "source": [
        "**Matrix Construction**"
      ]
    },
    {
      "cell_type": "code",
      "metadata": {
        "id": "Mov25z-jjeOq"
      },
      "source": [
        "# function to get unique values\n",
        "def unique_pro(list1):\n",
        "     \n",
        "    # insert the list to the set\n",
        "    list_set = set(list1)\n",
        "    # convert the set to the list\n",
        "    unique_list = (list(list_set))\n",
        "    \n",
        "    return unique_list"
      ],
      "execution_count": 49,
      "outputs": []
    },
    {
      "cell_type": "code",
      "metadata": {
        "colab": {
          "base_uri": "https://localhost:8080/"
        },
        "id": "_jc__W_jFpQI",
        "outputId": "d68c9d03-faff-4880-a68c-ff17d9518e40"
      },
      "source": [
        "# word : key -> dictionary\n",
        "\n",
        "unique = {}\n",
        "count=0;\n",
        "for tweet,y in zip(df['tweet'],df['label']):\n",
        "  li = process_tweet(tweet)\n",
        "  for word in li:\n",
        "    if word not in unique :\n",
        "      unique[word]=count\n",
        "      count+=1\n",
        "\n",
        "# matrix -> cols - no. of unique words\n",
        "neg = count\n",
        "\n",
        "# matrix -> rows - no. of tweets => size of dataset\n",
        "m = df['label'].shape[0]\n",
        "ind =[]\n",
        "val=[]\n",
        "pointer =[]\n",
        "pointer.append(0)\n",
        "for tweet,y in zip(df['tweet'],df['label']):\n",
        "  lis = process_tweet(tweet)\n",
        "  li = unique_pro(lis)\n",
        "  for word in li :\n",
        "     ind.append(unique[word]) \n",
        "     val.append(lis.count(word))\n",
        "\n",
        "  pointer.append(len(li))\n",
        "\n",
        "print(len(ind))\n",
        "print(len(val))\n",
        "print(len(pointer))"
      ],
      "execution_count": 50,
      "outputs": [
        {
          "output_type": "stream",
          "name": "stdout",
          "text": [
            "200851\n",
            "200851\n",
            "31963\n"
          ]
        }
      ]
    },
    {
      "cell_type": "code",
      "metadata": {
        "colab": {
          "base_uri": "https://localhost:8080/"
        },
        "id": "wLFYPr9il1ni",
        "outputId": "25b2f531-cc14-4f84-eeba-8b083aef8e8b"
      },
      "source": [
        "from scipy.sparse import *\n",
        "from scipy import *\n",
        "csr_matrix((val,ind,pointer))"
      ],
      "execution_count": 51,
      "outputs": [
        {
          "output_type": "execute_result",
          "data": {
            "text/plain": [
              "<31962x29421 sparse matrix of type '<class 'numpy.int64'>'\n",
              "\twith 2 stored elements in Compressed Sparse Row format>"
            ]
          },
          "metadata": {},
          "execution_count": 51
        }
      ]
    },
    {
      "cell_type": "markdown",
      "metadata": {
        "id": "t68LTSVoklK1"
      },
      "source": [
        "**Train Test Split - 70 : 30**"
      ]
    },
    {
      "cell_type": "code",
      "metadata": {
        "colab": {
          "base_uri": "https://localhost:8080/"
        },
        "id": "duSfS1MV9qoj",
        "outputId": "e2f157f3-2aea-44c4-e139-84fd549e4680"
      },
      "source": [
        "df_permutated = df.sample(frac=1)\n",
        "\n",
        "train_size = 0.7\n",
        "train_end = int(len(df_permutated)*train_size)\n",
        "\n",
        "train = df_permutated[:train_end]\n",
        "test = df_permutated[train_end:]\n",
        "print(\"Train data size: {}\\nTest data size: {}\".format(len(train), len(test)))"
      ],
      "execution_count": 52,
      "outputs": [
        {
          "output_type": "stream",
          "name": "stdout",
          "text": [
            "Train data size: 22373\n",
            "Test data size: 9589\n"
          ]
        }
      ]
    },
    {
      "cell_type": "code",
      "metadata": {
        "id": "62gnNusGFrCv"
      },
      "source": [
        "# Changing Racist tweets to '0' and vice versa \n",
        "def reverse(label):\n",
        "  if label==0:\n",
        "    label= 1\n",
        "  else:\n",
        "    label= 0\n",
        "  return label"
      ],
      "execution_count": 53,
      "outputs": []
    },
    {
      "cell_type": "code",
      "metadata": {
        "id": "zZus5I_5IMHv"
      },
      "source": [
        "df['label']=np.vectorize(reverse)(df['label'])"
      ],
      "execution_count": 54,
      "outputs": []
    },
    {
      "cell_type": "code",
      "metadata": {
        "id": "o4VQRzDl99WG"
      },
      "source": [
        "def create_frequency(tweets, label):\n",
        "    \n",
        "    freq_d = {}\n",
        "    for tweet,y in zip(tweets,label):\n",
        "      for word in process_tweet(tweet) :\n",
        "        pair=(word,y)\n",
        "        if pair in freq_d :\n",
        "          freq_d[pair]+=1\n",
        "        else:\n",
        "          freq_d[pair]=freq_d.get(pair,1)\n",
        "\n",
        "    \n",
        "    return freq_d"
      ],
      "execution_count": 55,
      "outputs": []
    },
    {
      "cell_type": "code",
      "metadata": {
        "colab": {
          "base_uri": "https://localhost:8080/"
        },
        "id": "0uvvaHvR-KN7",
        "outputId": "9afc84a7-0823-4bdd-ec69-402a1ad3bc5a"
      },
      "source": [
        "# testing function\n",
        "\n",
        "tweets = ['i am happy', 'i am tricked', 'i am sad', 'i am tired', 'i am tire']\n",
        "ys = [1, 0, 0, 0, 1]\n",
        "\n",
        "freq_d = create_frequency(tweets, ys)\n",
        "print(freq_d)"
      ],
      "execution_count": 56,
      "outputs": [
        {
          "output_type": "stream",
          "name": "stdout",
          "text": [
            "{('happi', 1): 1, ('trick', 0): 1, ('sad', 0): 1, ('tire', 0): 1, ('tire', 1): 1}\n"
          ]
        }
      ]
    },
    {
      "cell_type": "code",
      "metadata": {
        "id": "vVlGcmhv-XiT"
      },
      "source": [
        "# build the freqs dictionary\n",
        "freqs = create_frequency(df['tweet'],df['label'])"
      ],
      "execution_count": 57,
      "outputs": []
    },
    {
      "cell_type": "markdown",
      "metadata": {
        "id": "7aMs-9x0lOAN"
      },
      "source": [
        "**Train Model Using Naive Bayes** "
      ]
    },
    {
      "cell_type": "code",
      "metadata": {
        "id": "AKvIEWmWlLX0"
      },
      "source": [
        "def train_naive_bayes(freqs, train_x, label):\n",
        "    '''\n",
        "        logprior: the log prior.\n",
        "        loglikelihood: the log likelihood of you Naive bayes equation.\n",
        "    '''\n",
        "    \n",
        "    loglikelihood = {}\n",
        "    logprior = 0\n",
        "    \n",
        "    # calculate the number of unique words in vocab\n",
        "    unique_words = set([pair[0] for pair in freqs.keys()])\n",
        "    \n",
        "    # calculate N_pos and N_neg\n",
        "    N_pos = N_neg = 0\n",
        "    for pair in freqs.keys():\n",
        "      if(pair[1]>0):\n",
        "        N_pos+=freqs[(pair)]\n",
        "      else:\n",
        "        N_neg+=freqs[(pair)]\n",
        "\n",
        "    # calculate the number of tweets\n",
        "    D = label.shape[0]\n",
        "    \n",
        "    # the number of racist tweets\n",
        "    D_pos = np.sum(label)\n",
        "    \n",
        "    # the number of non_rascist tweet\n",
        "    D_neg = D-D_pos\n",
        "    \n",
        "    # calculate logprior\n",
        "    logprior = np.log(D_pos)-np.log(D_neg)\n",
        "    \n",
        "    # for each unqiue word\n",
        "    for word in unique_words:\n",
        "        \n",
        "        # get the positive and negative frequency of the word\n",
        "        freq_pos = freqs.get((word,1),0)\n",
        "        freq_neg = freqs.get((word,0),0)\n",
        "        \n",
        "        # calculate the probability that word is positive, and negative\n",
        "        if N_pos==0 : \n",
        "          p_w_pos = INT_MAX\n",
        "        else :\n",
        "          p_w_pos = (freq_pos)/(N_pos)\n",
        "        if N_pos ==0 : \n",
        "          p_w_neg = INT_MAX\n",
        "        else :\n",
        "          p_w_neg = (freq_neg)/(N_neg)\n",
        "        \n",
        "        # calculate the log likelihood of the word\n",
        "        if p_w_neg == 0 :\n",
        "          p_w_neg=0.00001\n",
        "        loglikelihood[word] = np.log(p_w_pos/p_w_neg)\n",
        "    return logprior, loglikelihood"
      ],
      "execution_count": 99,
      "outputs": []
    },
    {
      "cell_type": "code",
      "metadata": {
        "colab": {
          "base_uri": "https://localhost:8080/"
        },
        "id": "Ic0sRUOVnC6x",
        "outputId": "e2d44933-e33f-454e-d17b-4aa77470fc32"
      },
      "source": [
        "logprior, loglikelihood = train_naive_bayes(freqs,df['tweet'] , df['label'])\n",
        "print(logprior)\n",
        "print(len(loglikelihood))"
      ],
      "execution_count": 100,
      "outputs": [
        {
          "output_type": "stream",
          "name": "stdout",
          "text": [
            "2.5844518951995896\n",
            "29421\n"
          ]
        },
        {
          "output_type": "stream",
          "name": "stderr",
          "text": [
            "/usr/local/lib/python3.7/dist-packages/ipykernel_launcher.py:53: RuntimeWarning: divide by zero encountered in log\n"
          ]
        }
      ]
    },
    {
      "cell_type": "code",
      "metadata": {
        "id": "0TboWTA5pBio"
      },
      "source": [
        "def naive_bayes_predict(tweet, logprior, loglikelihood):\n",
        "    '''\n",
        "    the sum of all the logliklihoods of each word in the tweet\n",
        "    '''\n",
        "\n",
        "    # process the tweet to get a list of words\n",
        "    word_l = process_tweet(tweet)\n",
        "\n",
        "    # initialize probability to logprior\n",
        "    p = logprior\n",
        "\n",
        "    for word in word_l:\n",
        "      if word in loglikelihood :\n",
        "        p+=loglikelihood[word]\n",
        "\n",
        "    return p"
      ],
      "execution_count": 63,
      "outputs": []
    },
    {
      "cell_type": "code",
      "metadata": {
        "colab": {
          "base_uri": "https://localhost:8080/"
        },
        "id": "aXN1dUugpLxH",
        "outputId": "7960f927-a4f3-4ae6-a34c-79d28af15e8b"
      },
      "source": [
        "\n",
        "#  test function\n",
        "for tweet in ['I am happy', 'I am racist', 'this movie should have been great.','trump is a racist', 'great great great',  'politics is a hatred race']:\n",
        "   \n",
        "    p = naive_bayes_predict(tweet, logprior, loglikelihood)\n",
        "    print(f'{tweet} -> {p:.2f}')"
      ],
      "execution_count": 64,
      "outputs": [
        {
          "output_type": "stream",
          "name": "stdout",
          "text": [
            "I am happy -> 5.22\n",
            "I am racist -> -0.99\n",
            "this movie should have been great. -> 3.87\n",
            "trump is a racist -> -3.61\n",
            "great great great -> 3.49\n",
            "politics is a hatred race -> -4.20\n"
          ]
        }
      ]
    },
    {
      "cell_type": "markdown",
      "metadata": {
        "id": "Ko3y-ZxCqyDm"
      },
      "source": [
        "**Testing Accuracy using Naive Bayes**"
      ]
    },
    {
      "cell_type": "code",
      "metadata": {
        "colab": {
          "base_uri": "https://localhost:8080/"
        },
        "id": "RabKWaglpeO_",
        "outputId": "b06070f2-0fe5-43f0-a92d-312c256b2ae8"
      },
      "source": [
        "# test - 30\n",
        "\n",
        "crct=wrng=0\n",
        "tp=fp=tn=fn=0\n",
        "for i,j in zip(test['label'],test['tweet']):\n",
        "  s=\"\"\n",
        "  for word in process_tweet(j):\n",
        "    s+=word\n",
        "    s+=\" \"\n",
        "  p = naive_bayes_predict(s, logprior, loglikelihood)\n",
        "  if p>0 :\n",
        "    if i==0 :\n",
        "      crct+=1\n",
        "      tp+=1\n",
        "    else :\n",
        "      wrng+=1\n",
        "      fp+=1\n",
        "  else :\n",
        "    if i==1 :\n",
        "      crct+=1\n",
        "      tn+=1\n",
        "    else :\n",
        "      wrng+=1\n",
        "      fn+=1\n",
        "\n",
        "accuracy = crct /(crct+wrng)\n",
        "interval = 1.96 * sqrt( (accuracy * (1 -accuracy)) /sample_len)\n",
        "print(\"Accuracy using naive bayes: \" ,'%.5f'% (accuracy*100),\" +/- \",'%.3f\\n' % interval)\n",
        "\n",
        "precision = tp/(tp+fp)\n",
        "interval = 1.96 * sqrt( (precision * (1 -precision)) /sample_len)\n",
        "print(\"Precision using naive bayes: \", '%.5f'% (precision*100),\" +/- \",'%.3f\\n' % interval)\n",
        "\n",
        "Recall = tp/(tp+fn)\n",
        "interval = 1.96 * sqrt( (Recall * (1 -Recall)) /sample_len)\n",
        "print(\"Sensitivity using naive bayes: \" '%.5f'% (Recall*100),\" +/- \",'%.3f\\n' % interval)\n",
        "\n",
        "f1_score = 2*Recall*precision/(Recall+precision)\n",
        "interval = 1.96 * sqrt( (f1_score * (1 -f1_score)) /sample_len)\n",
        "print(\"F1_score using naive bayes: \" '%.5f'% (f1_score*100),\" +/- \",'%.3f\\n' % interval)\n",
        "\n",
        "specificity = tn/(tn+fp)\n",
        "interval = 1.96 * sqrt( (specificity * (1 -specificity)) /sample_len)\n",
        "print(\"Specificity using naive bayes: \" '%.5f'% (specificity*100),\" +/- \",'%.3f\\n' % interval)\n"
      ],
      "execution_count": 95,
      "outputs": [
        {
          "output_type": "stream",
          "name": "stdout",
          "text": [
            "Accuracy using naive bayes:  96.93399  +/-  0.003\n",
            "\n",
            "Precision using naive bayes:  97.74030  +/-  0.003\n",
            "\n",
            "Sensitivity using naive bayes: 99.00625  +/-  0.002\n",
            "\n",
            "F1_score using naive bayes: 98.36920  +/-  0.003\n",
            "\n",
            "Specificity using naive bayes: 67.61453  +/-  0.009\n",
            "\n"
          ]
        }
      ]
    },
    {
      "cell_type": "markdown",
      "metadata": {
        "id": "ktww---Eht_N"
      },
      "source": [
        "**Train model using Naive Bayes using laplace correction**"
      ]
    },
    {
      "cell_type": "code",
      "metadata": {
        "id": "KIovnyOa-qJU"
      },
      "source": [
        "def train_naive_bayes_laplace(freqs, train_x, label):\n",
        "    '''\n",
        "        logprior: the log prior.\n",
        "        loglikelihood: the log likelihood of you Naive bayes equation.\n",
        "    '''\n",
        "    \n",
        "    loglikelihood = {}\n",
        "    logprior = 0\n",
        "    \n",
        "    # calculate the number of unique words in vocab\n",
        "    unique_words = set([pair[0] for pair in freqs.keys()])\n",
        "    V = len(unique_words)\n",
        "    \n",
        "    # calculate N_pos and N_neg\n",
        "    N_pos = N_neg = 0\n",
        "    for pair in freqs.keys():\n",
        "      if(pair[1]>0):\n",
        "        N_pos+=freqs[(pair)]\n",
        "      else:\n",
        "        N_neg+=freqs[(pair)]\n",
        "\n",
        "    # calculate the number of tweets\n",
        "    D = label.shape[0]\n",
        "    \n",
        "    # the number of racist tweets\n",
        "    D_pos = np.sum(label)\n",
        "    \n",
        "    # the number of non_rascist tweet\n",
        "    D_neg = D-D_pos\n",
        "    \n",
        "    # calculate logprior\n",
        "    logprior = np.log(D_pos)-np.log(D_neg)\n",
        "    \n",
        "    # for each unqiue word\n",
        "    for word in unique_words:\n",
        "        \n",
        "        # get the positive and negative frequency of the word\n",
        "        freq_pos = freqs.get((word,1),0)\n",
        "        freq_neg = freqs.get((word,0),0)\n",
        "        \n",
        "        # calculate the probability that word is positive, and negative\n",
        "        p_w_pos = (freq_pos +1)/(N_pos+V)\n",
        "        p_w_neg = (freq_neg +1)/(N_neg+V)\n",
        "        \n",
        "        # calculate the log likelihood of the word\n",
        "        loglikelihood[word] = np.log(p_w_pos/p_w_neg)\n",
        "    return logprior, loglikelihood\n",
        "        "
      ],
      "execution_count": 68,
      "outputs": []
    },
    {
      "cell_type": "code",
      "metadata": {
        "colab": {
          "base_uri": "https://localhost:8080/"
        },
        "id": "gieMSaoLBl1L",
        "outputId": "add981da-0d08-4b79-e84c-085799cc484d"
      },
      "source": [
        "\n",
        "logprior, loglikelihood = train_naive_bayes_laplace(freqs,df['tweet'] , df['label'])\n",
        "print(logprior)\n",
        "print(len(loglikelihood))"
      ],
      "execution_count": 69,
      "outputs": [
        {
          "output_type": "stream",
          "name": "stdout",
          "text": [
            "2.5844518951995896\n",
            "29421\n"
          ]
        }
      ]
    },
    {
      "cell_type": "code",
      "metadata": {
        "id": "6wnrglouCMCS"
      },
      "source": [
        "def naive_bayes_predict_laplace(tweet, logprior, loglikelihood):\n",
        "    '''\n",
        "    the sum of all the logliklihoods of each word in the tweet\n",
        "    '''\n",
        "\n",
        "    # process the tweet to get a list of words\n",
        "    word_l = process_tweet(tweet)\n",
        "\n",
        "    # initialize probability to logprior\n",
        "    p = logprior\n",
        "\n",
        "    for word in word_l:\n",
        "      if word in loglikelihood :\n",
        "        p+=loglikelihood[word]\n",
        "\n",
        "    return p"
      ],
      "execution_count": 70,
      "outputs": []
    },
    {
      "cell_type": "code",
      "metadata": {
        "colab": {
          "base_uri": "https://localhost:8080/"
        },
        "id": "JU6MKcBnC6kP",
        "outputId": "7e4cca5e-28cc-4cd1-b54c-d456ce70364e"
      },
      "source": [
        "\n",
        "#  test function\n",
        "for tweet in ['I am happy', 'I am racist', 'this movie should have been great.','trump is a racist', 'great great great',  'politics is a hatred race']:\n",
        "   \n",
        "    p = naive_bayes_predict_laplace(tweet, logprior, loglikelihood)\n",
        "    print(f'{tweet} -> {p:.2f}')\n"
      ],
      "execution_count": 71,
      "outputs": [
        {
          "output_type": "stream",
          "name": "stdout",
          "text": [
            "I am happy -> 6.06\n",
            "I am racist -> -0.05\n",
            "this movie should have been great. -> 5.46\n",
            "trump is a racist -> -1.75\n",
            "great great great -> 6.16\n",
            "politics is a hatred race -> -1.43\n"
          ]
        }
      ]
    },
    {
      "cell_type": "markdown",
      "metadata": {
        "id": "aTG_9CYgqpfk"
      },
      "source": [
        "**Testing Accuracy using Laplace smoothing**"
      ]
    },
    {
      "cell_type": "code",
      "metadata": {
        "id": "4E7SHMfNJF5K",
        "colab": {
          "base_uri": "https://localhost:8080/"
        },
        "outputId": "86cefb74-2713-4427-bdc7-fb1eaedb867a"
      },
      "source": [
        "# test - 30\n",
        "\n",
        "from math import sqrt\n",
        "\n",
        "sample_len = test['label'].shape[0]\n",
        "crct=wrng=0\n",
        "tp=fp=tn=fn=0\n",
        "for i,j in zip(test['label'],test['tweet']):\n",
        "  s=\"\"\n",
        "  for word in process_tweet(j):\n",
        "    s+=word\n",
        "    s+=\" \"\n",
        "  p = naive_bayes_predict_laplace(s, logprior, loglikelihood)\n",
        "  if p>0 :\n",
        "    if i==0 :\n",
        "      crct+=1\n",
        "      tp+=1\n",
        "    else :\n",
        "      wrng+=1\n",
        "      fp+=1\n",
        "  else :\n",
        "    if i==1 :\n",
        "      crct+=1\n",
        "      tn+=1\n",
        "    else :\n",
        "      wrng+=1\n",
        "      fn+=1\n",
        "\n",
        "accuracy = crct /(crct+wrng)\n",
        "interval = 1.96 * sqrt( (accuracy * (1 -accuracy)) /sample_len)\n",
        "print(\"Accuracy using naive bayes with laplace smoothing: \" '%.5f'% (accuracy*100),\" +/- \",'%.3f\\n' % interval)\n",
        "\n",
        "precision = tp/(tp+fp)\n",
        "interval = 1.96 * sqrt( (precision * (1 -precision)) /sample_len)\n",
        "print(\"Precision using naive bayes with laplace smoothing: \" '%.5f'% (precision*100),\" +/- \",'%.3f\\n' % interval)\n",
        "\n",
        "Recall = tp/(tp+fn)\n",
        "interval = 1.96 * sqrt( (Recall * (1 -Recall)) /sample_len)\n",
        "print(\"Sensitivity using naive bayes with laplace smoothing: \" '%.5f'% (Recall*100),\" +/- \",'%.3f\\n' % interval)\n",
        "\n",
        "f1_score = 2*Recall*precision/(Recall+precision)\n",
        "interval = 1.96 * sqrt( (f1_score * (1 -f1_score)) /sample_len)\n",
        "print(\"F1_score using naive bayes with laplace smoothing: \" '%.5f'% (f1_score*100),\" +/- \",'%.3f\\n' % interval)\n",
        "\n",
        "specificity = tn/(tn+fp)\n",
        "interval = 1.96 * sqrt( (specificity * (1 -specificity)) /sample_len)\n",
        "print(\"Specificity using naive bayes with laplace smoothing: \" '%.5f'% (specificity*100),\" +/- \",'%.3f\\n' % interval)"
      ],
      "execution_count": 96,
      "outputs": [
        {
          "output_type": "stream",
          "name": "stdout",
          "text": [
            "Accuracy using naive bayes with laplace smoothing: 96.93399  +/-  0.003\n",
            "\n",
            "Precision using naive bayes with laplace smoothing: 97.74030  +/-  0.003\n",
            "\n",
            "Sensitivity using naive bayes with laplace smoothing: 99.00625  +/-  0.002\n",
            "\n",
            "F1_score using naive bayes with laplace smoothing: 98.36920  +/-  0.003\n",
            "\n",
            "Specificity using naive bayes with laplace smoothing: 67.61453  +/-  0.009\n",
            "\n"
          ]
        }
      ]
    }
  ]
}