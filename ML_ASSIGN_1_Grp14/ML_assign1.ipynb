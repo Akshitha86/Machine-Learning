{
  "nbformat": 4,
  "nbformat_minor": 0,
  "metadata": {
    "colab": {
      "name": "ML_assign1.ipynb",
      "provenance": [],
      "history_visible": true
    },
    "kernelspec": {
      "name": "python3",
      "display_name": "Python 3"
    },
    "language_info": {
      "name": "python"
    }
  },
  "cells": [
    {
      "cell_type": "code",
      "metadata": {
        "id": "ZyhEORCfEbTg"
      },
      "source": [
        "class node:\n",
        "    '''\n",
        "    This is the main node class of the decision tree\n",
        "    This class contains the skeleton of the structure \n",
        "    of each node in the decision tree. \n",
        "    '''\n",
        "\n",
        "    def __init__(self, attr, val, mean, mse):\n",
        "        '''\n",
        "        This function is the constructor to initialize the \n",
        "        values in the node object.\n",
        "        Parameters\n",
        "        ----------\n",
        "        attr: [String] the decision attribute that has been selected \n",
        "                for this node on the basis of which the \n",
        "                children will be decided\n",
        "        val: [Float] the value of the selected attribute on the \n",
        "                basis which the splitting of the children \n",
        "                nodes will be decided for the current node\n",
        "        mean: [Float] mean of the attributes ( selected in the current \n",
        "                level ) of the training data, this will help in \n",
        "                making predictions at this node if it is a leaf\n",
        "        mse: [Float] mean squared error of the attributes ( selected in the \n",
        "                current level ) of the training data, this will help \n",
        "                in making decisions for pruning\n",
        "        '''\n",
        "        self.attr = attr\n",
        "        self.split = val\n",
        "        self.mse = mse\n",
        "        self.mean = mean\n",
        "        self.left = None\n",
        "        self.right = None\n",
        "\n",
        "    def remove_children(self):\n",
        "        '''\n",
        "        This function is a helper function for the pruning step\n",
        "        the following function removes the children of the current node\n",
        "        '''\n",
        "        self.right = None\n",
        "        self.left = None\n",
        "        self.attr = 'y'\n",
        "\n",
        "    def restore(self, attr, left, right):\n",
        "        '''\n",
        "        This function will restore the  children nodes of the current \n",
        "        node during the pruning process if you decide not to remove \n",
        "        the cchildren of the current node \n",
        "        '''\n",
        "        self.attr = attr\n",
        "        self.left = left\n",
        "        self.right = right\n",
        "\n",
        "    def count_node(self):\n",
        "        '''\n",
        "        This function is a helper funcction which is used to recursively \n",
        "        count the number of nodes in the tree rooted at the given node \n",
        "        '''\n",
        "        num_nodes = 1\n",
        "        if self.left != None:\n",
        "            num_nodes += self.left.count_node()\n",
        "        if self.right != None:\n",
        "            num_nodes += self.right.count_node()\n",
        "        return num_nodes\n",
        "\n",
        "    def prune(self, decision_tree_root, cur_error, X_valid):\n",
        "        '''\n",
        "        This function is the main pruning function. This function \n",
        "        will first recursively prune the children of the current node\n",
        "        then will decide whether to prune the correct node or not \n",
        "        '''\n",
        "        if self.left == None and self.right == None:\n",
        "            return 10**18\n",
        "        if self.left != None:\n",
        "            self.left.prune(decision_tree_root, cur_error, X_valid)\n",
        "        if self.right != None:\n",
        "            self.right.prune(decision_tree_root, cur_error, X_valid)\n",
        "\n",
        "        cur_error, _ = predict(decision_tree_root, X_valid)\n",
        "\n",
        "        # store the data of the children nodes in temporary variable\n",
        "        temp_left = self.left\n",
        "        temp_right = self.right\n",
        "        temp_attr = self.attr\n",
        "        self.remove_children()\n",
        "\n",
        "        # calculate the error on the new decision tree\n",
        "        err, _ = predict(decision_tree_root, X_valid)\n",
        "\n",
        "        # print(err, cur_error)\n",
        "\n",
        "        # if the error on the new decision tree increases then\n",
        "        # restore the children of the current node\n",
        "        if err > cur_error or decision_tree_root.count_node() <= 5:\n",
        "            self.restore(temp_attr, temp_left, temp_right)\n",
        "\n",
        "\n",
        "\n",
        "def construct_tree_gini(samples, current_height, max_height, attr_list):\n",
        "    '''\n",
        "    This function is the main function the handles the construction \n",
        "    of the entire decision tree handling all the steps. This function \n",
        "    implements the ID3 algorithm with the help of the  functions \n",
        "    '''\n",
        "\n",
        "    # if the max height is reached then return\n",
        "    if current_height == max_height or len(samples) == 0:\n",
        "        return None\n",
        "\n",
        "    # if we have one data only then store it in the node and\n",
        "    # consider this as the prediction alue for this node also\n",
        "    if len(samples) == 1:\n",
        "        return node('y', samples[0]['y'], samples[0]['y'], 0)\n",
        "\n",
        "    # select the best attribute to be selected for this node\n",
        "    # with the help of the functions\n",
        "    attr, split, mse = good_attr_gini(samples, attr_list)\n",
        "    samples1, samples2, mean = [], [], 0\n",
        "\n",
        "    for i in samples:\n",
        "        mean += i['y']\n",
        "        if i[attr] <= split:\n",
        "            samples1.append(i)\n",
        "        else:\n",
        "            samples2.append(i)\n",
        "\n",
        "    # consider the mean as the prediction for the current node\n",
        "    mean /= len(samples)\n",
        "\n",
        "    # recursively build the left and the right children of\n",
        "    # the current node and the return this node as the head\n",
        "    head = node(attr, split, mean, mse)\n",
        "    head.left = construct_tree_gini(\n",
        "        samples1, current_height+1, max_height, attr_list)\n",
        "    head.right = construct_tree_gini(\n",
        "        samples2, current_height+1, max_height, attr_list)\n",
        "    if head.left == None and head.right == None:\n",
        "        head.attr = 'y'\n",
        "        head.split = head.mean\n",
        "\n",
        "    return head\n",
        "\n",
        "def construct_tree_infogain(samples, current_height, max_height, attr_list):\n",
        "    '''\n",
        "    This function is the main function the handles the construction \n",
        "    of the entire decision tree handling all the steps. This function \n",
        "    implements the ID3 algorithm with the help of the  functions \n",
        "    '''\n",
        "\n",
        "    # if the max height is reached then return\n",
        "    if current_height == max_height or len(samples) == 0:\n",
        "        return None\n",
        "\n",
        "    # if we have one data only then store it in the node and\n",
        "    # consider this as the prediction alue for this node also\n",
        "    if len(samples) == 1:\n",
        "        return node('y', samples[0]['y'], samples[0]['y'], 0)\n",
        "\n",
        "    # select the best attribute to be selected for this node\n",
        "    # with the help of the functions\n",
        "    attr, split, mse = good_attr_infogain(samples, attr_list)\n",
        "    samples1, samples2, mean = [], [], 0\n",
        "\n",
        "    for i in samples:\n",
        "        mean += i['y']\n",
        "        if i[attr] <= split:\n",
        "            samples1.append(i)\n",
        "        else:\n",
        "            samples2.append(i)\n",
        "\n",
        "    # consider the mean as the prediction for the current node\n",
        "    mean /= len(samples)\n",
        "\n",
        "    # recursively build the left and the right children of\n",
        "    # the current node and the return this node as the head\n",
        "    head = node(attr, split, mean, mse)\n",
        "    head.left = construct_tree_infogain(\n",
        "        samples1, current_height+1, max_height, attr_list)\n",
        "    head.right = construct_tree_infogain(\n",
        "        samples2, current_height+1, max_height, attr_list)\n",
        "    if head.left == None and head.right == None:\n",
        "        head.attr = 'y'\n",
        "        head.split = head.mean\n",
        "\n",
        "    return head\n",
        "\n",
        "\n",
        "def predict_one(decision_tree, data):\n",
        "    '''\n",
        "    This function is used for prediction of a singe sample\n",
        "    In this we do a depth first search through the decision\n",
        "    tree with the help of the attribute stored in the nodes \n",
        "    '''\n",
        "\n",
        "    # if the leaf node is reached thenreturn the prediction\n",
        "    # stored at this node\n",
        "    if decision_tree==None:\n",
        "      pass\n",
        "    elif decision_tree.left == None and decision_tree.right == None:\n",
        "        return decision_tree.mean\n",
        "\n",
        "    # based on the decision either recurse to the left\n",
        "    # or the right half until the leaf node is reached\n",
        "    if decision_tree==None:\n",
        "      pass\n",
        "    elif data[decision_tree.attr] <= decision_tree.split:\n",
        "        return predict_one(decision_tree.left, data)\n",
        "    else :\n",
        "      return predict_one(decision_tree.right, data)\n",
        "    return False\n",
        "\n",
        "\n",
        "def predict(decision_tree, data):\n",
        "    '''\n",
        "    This function is used for predistion of a multiple samples\n",
        "    In this function we make use of the function predict_one \n",
        "    for each item in the data list\n",
        "    '''\n",
        "\n",
        "    mse, preds = 0, []\n",
        "    for i in data:\n",
        "\n",
        "        # make prediction for the current data point\n",
        "        val = predict_one(decision_tree, i)\n",
        "        # insert the prediction in the prediction array\n",
        "        preds.append(val)\n",
        "        mse += (val-i['y'])**2\n",
        "\n",
        "    # calculate the average error\n",
        "    mse = mse/len(data)\n",
        "    return mse, preds"
      ],
      "execution_count": 100,
      "outputs": []
    },
    {
      "cell_type": "code",
      "metadata": {
        "id": "2LoYwOLlFfDB"
      },
      "source": [
        "import csv\n",
        "import numpy as np\n",
        "import pandas as pd\n",
        "import random\n",
        "from graphviz import Digraph\n"
      ],
      "execution_count": 111,
      "outputs": []
    },
    {
      "cell_type": "code",
      "metadata": {
        "id": "gCvJibyWFmpY"
      },
      "source": [
        "def to_construct(file):\n",
        "    '''\n",
        "    Converts bupa data to new data file which is constructed based on the condition drinks >=5\n",
        "    '''\n",
        "    with open(\"bupa.data\",mode='r') as data_file:\n",
        "        data_reader= csv.DictReader(data_file)\n",
        "        line=0\n",
        "        with open('newbupa.data',mode='w') as newdata_file:\n",
        "          newdata_writer = csv.writer(newdata_file,delimiter=',', quotechar='\"', quoting=csv.QUOTE_MINIMAL)\n",
        "          for row in data_reader :\n",
        "            if(line==0):\n",
        "              newdata_writer.writerow([\"mcv\",\"alkphos\",\"sgpt\",\"sgot\",\"gammagt\",'y'])\n",
        "              line=line+1\n",
        "            if(float(row[\"drinks\"])>=5) :\n",
        "              newdata_writer.writerow([row[\"mcv\"],row[\"alkphos\"],row[\"sgpt\"],row[\"sgot\"],row[\"gammagt\"],'1'])\n",
        "            else :\n",
        "              newdata_writer.writerow([row[\"mcv\"],row[\"alkphos\"],row[\"sgpt\"],row[\"sgot\"],row[\"gammagt\"],'0'])\n",
        "            line=line+1\n",
        "    return newdata_file"
      ],
      "execution_count": 59,
      "outputs": []
    },
    {
      "cell_type": "code",
      "metadata": {
        "colab": {
          "base_uri": "https://localhost:8080/"
        },
        "id": "ZYXGwu2_Koaw",
        "outputId": "053c3ad4-becc-402a-95f4-b4502defa735"
      },
      "source": [
        "to_construct('bupa.data')"
      ],
      "execution_count": 60,
      "outputs": [
        {
          "output_type": "execute_result",
          "data": {
            "text/plain": [
              "<_io.TextIOWrapper name='newbupa.data' mode='w' encoding='UTF-8'>"
            ]
          },
          "metadata": {},
          "execution_count": 60
        }
      ]
    },
    {
      "cell_type": "code",
      "metadata": {
        "id": "SFoWIRoFFrqd"
      },
      "source": [
        "def read_data(newdata_file):\n",
        "    '''\n",
        "     A pandas dataframe consisting of the data read from the 'dupa.data'\n",
        "    '''\n",
        "    df = pd.read_csv(newdata_file).drop(index=0)\n",
        "    return df"
      ],
      "execution_count": 61,
      "outputs": []
    },
    {
      "cell_type": "code",
      "metadata": {
        "id": "wXVd3yTlLGaa"
      },
      "source": [
        "df=read_data('newbupa.data')"
      ],
      "execution_count": 62,
      "outputs": []
    },
    {
      "cell_type": "code",
      "metadata": {
        "id": "iSbkLJKkFxZ9"
      },
      "source": [
        "def build_data(df):\n",
        "    '''\n",
        "    Converts the data from the pandas data freame format to array of dictionary objects\n",
        "    '''\n",
        "    data = []\n",
        "    for i in range(1, len(df['mcv'])+1):\n",
        "        data.append(\n",
        "            {\n",
        "                'mcv':          df['mcv'][i],\n",
        "                'alkphos':      df['alkphos'][i],\n",
        "                'sgpt':         df['sgpt'][i],\n",
        "                'sgot':         df['sgot'][i],\n",
        "                'gammagt':      df['gammagt'][i],\n",
        "                'y' :           df['y'][i]\n",
        "            }\n",
        "        )\n",
        "    return data"
      ],
      "execution_count": 63,
      "outputs": []
    },
    {
      "cell_type": "code",
      "metadata": {
        "id": "disK_w14FzZj"
      },
      "source": [
        "def train_test_split(df):\n",
        "    '''\n",
        "    This function will first convert the pandas dataframe into array of dictionary objects then splits the data into \n",
        "    X_train and X_test using an 80-20 split for training : test\n",
        "    '''\n",
        "    data = build_data(df)\n",
        "    random.shuffle(data)\n",
        "    X_train, X_test = data[:int(0.6*len(data))], data[int(0.8*len(data)):]\n",
        "    return X_train, X_test"
      ],
      "execution_count": 143,
      "outputs": []
    },
    {
      "cell_type": "code",
      "metadata": {
        "id": "mU-mZuIYMGgx"
      },
      "source": [
        "def train_valid_split(data):\n",
        "    '''\n",
        "    data: This function is to split the input data in to training set and validation set. The following function \n",
        "    makes use of the K-fold cross validation wher the data is divided into 4 parts and three parts is used for \n",
        "    training and one art for validation \n",
        "    '''\n",
        "\n",
        "    random.shuffle(data)\n",
        "    X_train, X_valid = data[:int(\n",
        "        0.75*len(data))], data[int(0.75*len(data)):]\n",
        "    return X_train, X_valid\n"
      ],
      "execution_count": 144,
      "outputs": []
    },
    {
      "cell_type": "code",
      "metadata": {
        "id": "_EJBjKT4F3xo"
      },
      "source": [
        "\n",
        "def entropy(target_col):\n",
        "    \"\"\"\n",
        "    Calculate the entropy of a dataset.\n",
        "    The only parameter of this function is the target_col parameter which specifies the target column\n",
        "    \"\"\"\n",
        "    elements,counts = np.unique(target_col,return_counts = True)\n",
        "    entropy = np.sum([(-counts[i]/np.sum(counts))*np.log2(counts[i]/np.sum(counts)) for i in range(len(elements))])\n",
        "    return entropy\n"
      ],
      "execution_count": 145,
      "outputs": []
    },
    {
      "cell_type": "code",
      "metadata": {
        "id": "1T6OJSoLF7xk"
      },
      "source": [
        "def information_gain(data,target_name=\"class\"):\n",
        "    \"\"\"\n",
        "    Calculate the information gain of a dataset. This function takes three parameters:\n",
        "    1. data = The dataset for whose feature the IG should be calculated\n",
        "    2. target_name = the name of the target feature. The default for this example is \"class\"\n",
        "    \"\"\"    \n",
        "    #Calculate the entropy of the total dataset\n",
        "    total_entropy = entropy(data)\n",
        "    \n",
        "    ##Calculate the entropy of the dataset\n",
        "    \n",
        "    #Calculate the values and the corresponding counts for the split attribute \n",
        "    vals,counts= np.unique(data,return_counts=True)\n",
        "    \n",
        "    #Calculate the weighted entropy\n",
        "    Weighted_Entropy = np.sum([((counts[i]/np.sum(counts))*entropy(data==vals[i])) for i in range(len(vals))])\n",
        "    \n",
        "    #Calculate the information gain\n",
        "    Information_Gain = total_entropy - Weighted_Entropy\n",
        "    return Information_Gain\n"
      ],
      "execution_count": 146,
      "outputs": []
    },
    {
      "cell_type": "code",
      "metadata": {
        "id": "wlJrasXdGCAJ"
      },
      "source": [
        "def good_attr_infogain(data, attr_list):\n",
        "    '''\n",
        "    This function is a helper function which helps to select which attribute will be the best if selected at this level\n",
        "    for splitting. the measure used in this method is variance \n",
        "    '''\n",
        "\n",
        "    best, best_attr, split, mse = -1, '', 0, 0\n",
        "\n",
        "    # shuffle the list to get better variation\n",
        "    # in selection of the attributes\n",
        "    random.shuffle(attr_list)\n",
        "\n",
        "    # for each attribute find the best change in variance\n",
        "    for attr in attr_list:\n",
        "\n",
        "        # create a list of data for the current attribute\n",
        "        attr_data = [{\n",
        "            'val': i[attr],\n",
        "            'y': i['y']\n",
        "        } for i in data]\n",
        "\n",
        "        # define the local variables\n",
        "        local_best, local_val = -1, 0\n",
        "\n",
        "        # sort the data for easy manipulation\n",
        "        data_left, data_right = [], sorted([i['y'] for i in attr_data])\n",
        "        data_var, data_len = information_gain(data_right), len(attr_data)\n",
        "        left_len, right_len = 0, data_len\n",
        "\n",
        "        # iterate through all the mid points of conecutive data points\n",
        "        # to select the best split for the attribute\n",
        "        for i in range(1, len(attr_data)):\n",
        "            mid = (attr_data[i-1]['val'] + attr_data[i]['val']) // 2\n",
        "            data_left.append(data_right.pop(0))\n",
        "            left_len, right_len = left_len+1, right_len-1\n",
        "\n",
        "        left_var = information_gain(data_left)\n",
        "        right_var = information_gain(data_right)\n",
        "\n",
        "        # calculate the current change in variance\n",
        "        gain = data_var - (left_len/data_len*left_var + right_len/data_len*right_var)\n",
        "\n",
        "        # if the change is more than any change observed\n",
        "        # till now then select this split as the best\n",
        "        if gain > local_best:\n",
        "            local_best = gain\n",
        "            local_val = mid\n",
        "\n",
        "    # check if the current attribute gives the best\n",
        "    # change in the variance measure, if so then\n",
        "    # select this attribute as the best measure\n",
        "    if local_best > best:\n",
        "        best = local_best\n",
        "        best_attr = attr\n",
        "        split = local_val\n",
        "        mse = data_var\n",
        "\n",
        "    return best_attr, split, mse"
      ],
      "execution_count": 147,
      "outputs": []
    },
    {
      "cell_type": "code",
      "metadata": {
        "id": "qJo1m7vQR0wQ"
      },
      "source": [
        "def count_values(data):\n",
        "    #will return a dictionary with species values as key and frequency as values\n",
        "    count={}\n",
        "    #takes whole dataset in as argument\n",
        "    for row in data:\n",
        "        #traverse on each datapoint\n",
        "        label=row\n",
        "        #labels are in the last column\n",
        "        #if label is not even once come initialise it\n",
        "        if label not in count:\n",
        "            count[label]=0\n",
        "        #increase the count of present label by 1\n",
        "        count[label]+=1\n",
        "    return count "
      ],
      "execution_count": 148,
      "outputs": []
    },
    {
      "cell_type": "code",
      "metadata": {
        "id": "GJpNFyUhGIRl"
      },
      "source": [
        "\n",
        "def gini_index(data):\n",
        "    #stores dictionary of frequency of labels\n",
        "    count=count_values(data)\n",
        "    #initialise impurity as 1\n",
        "    impurity=1\n",
        "    for label in count:\n",
        "        #probablity of a unique label\n",
        "        probab_of_label=count[label]/float(len(data))\n",
        "        #calculation gini impurity acc to formula\n",
        "        impurity-=probab_of_label**2\n",
        "    return impurity"
      ],
      "execution_count": 149,
      "outputs": []
    },
    {
      "cell_type": "code",
      "metadata": {
        "id": "m9Ugu4vAGMlL"
      },
      "source": [
        "def good_attr_gini(data, attr_list):\n",
        "    '''\n",
        "    This function is a helper function which helps to select which attribute will be the best if selected at this level\n",
        "    for splitting. the measure used in this method is variance \n",
        "    '''\n",
        "\n",
        "    best, best_attr, split, mse = -1, '', 0, 0\n",
        "\n",
        "    # shuffle the list to get better variation\n",
        "    # in selection of the attributes\n",
        "    random.shuffle(attr_list)\n",
        "\n",
        "    # for each attribute find the best change in variance\n",
        "    for attr in attr_list:\n",
        "\n",
        "        # create a list of data for the current attribute\n",
        "        attr_data = [{\n",
        "            'val': i[attr],\n",
        "            'y': i['y']\n",
        "        } for i in data]\n",
        "\n",
        "        # define the local variables\n",
        "        local_best, local_val = -1, 0\n",
        "\n",
        "        # sort the data for easy manipulation\n",
        "        data_left, data_right = [], sorted([i['y'] for i in attr_data])\n",
        "        data_var, data_len = gini_index(data_right), len(attr_data)\n",
        "        left_len, right_len = 0, data_len\n",
        "\n",
        "        # iterate through all the mid points of conecutive data points\n",
        "        # to select the best split for the attribute\n",
        "        for i in range(1, len(attr_data)):\n",
        "            mid = (attr_data[i-1]['val'] + attr_data[i]['val']) // 2\n",
        "            data_left.append(data_right.pop(0))\n",
        "            left_len, right_len = left_len+1, right_len-1\n",
        "\n",
        "        left_var = gini_index(data_left)\n",
        "        right_var = gini_index(data_right)\n",
        "\n",
        "        # calculate the current change in variance\n",
        "        gain = data_var - (left_len/data_len*left_var + right_len/data_len*right_var)\n",
        "\n",
        "        # if the change is more than any change observed\n",
        "        # till now then select this split as the best\n",
        "        if gain > local_best:\n",
        "            local_best = gain\n",
        "            local_val = mid\n",
        "\n",
        "    # check if the current attribute gives the best\n",
        "    # change in the variance measure, if so then\n",
        "    # select this attribute as the best measure\n",
        "    if local_best > best:\n",
        "        best = local_best\n",
        "        best_attr = attr\n",
        "        split = local_val\n",
        "        mse = data_var\n",
        "\n",
        "    return best_attr, split, mse"
      ],
      "execution_count": 150,
      "outputs": []
    },
    {
      "cell_type": "code",
      "metadata": {
        "id": "idBPxSJ0GRBq"
      },
      "source": [
        "def is_leaf(node):\n",
        "    '''\n",
        "    this function checks whether the currnent node is a leaf node\n",
        "    '''\n",
        "\n",
        "    is_leaf = (node.left == None and node.right == None)\n",
        "    return is_leaf\n",
        "\n",
        "\n",
        "def get(node):\n",
        "    '''\n",
        "    this function returns a formatted string which will be used for printing the parameters inside the node when the graph is crated using graphviz\n",
        "    '''\n",
        "    if not is_leaf(node):\n",
        "        return \"{} <= {}\\nmse = {}\\nmean = {}\".format(node.attr, node.split, node.mse, node.mean)\n",
        "    return \"{} == {}\\nmse = {}\\nmean = {}\".format(node.attr, node.split, node.mse, node.mean)"
      ],
      "execution_count": 151,
      "outputs": []
    },
    {
      "cell_type": "code",
      "metadata": {
        "id": "Gb-hKviuGVyh"
      },
      "source": [
        "def print_decision_tree(dtree):\n",
        "    '''\n",
        "    this function prints the ddecision tree graph so created and saves the output in the a pdf file \n",
        "    '''\n",
        "\n",
        "    # create a new Digraph\n",
        "    f = Digraph('Decision Tree', filename='decision_tree.gv')\n",
        "    f.attr(rankdir='LR', size='1000,500')\n",
        "\n",
        "    # border of the nodes is set to rectangle shape\n",
        "    f.attr('node', shape='rectangle')\n",
        "\n",
        "    # Do a breadth first search and add all the edges in the output graph\n",
        "    q = [dtree]  # queue for the bradth first search\n",
        "    while len(q) > 0:\n",
        "        node = q.pop(0)\n",
        "        if node.left != None:\n",
        "            f.edge(get(node), get(node.left), label='True')\n",
        "        if node.right != None:\n",
        "            f.edge(get(node), get(node.right), label='False')\n",
        "\n",
        "        if node.left != None:\n",
        "            q.append(node.left)\n",
        "        if node.right != None:\n",
        "            q.append(node.right)\n",
        "\n",
        "    # save file name :  decision_tree.gv.pdf\n",
        "    f.render('./decision_tree.gv', view=True)\n"
      ],
      "execution_count": 152,
      "outputs": []
    },
    {
      "cell_type": "code",
      "metadata": {
        "id": "sHWP2l3SGgMP"
      },
      "source": [
        "def r2_score(Y, Y_hat):\n",
        "    '''\n",
        "    this function calculates the r2 score  of the decision tree over the input dataset\n",
        "    '''\n",
        "    ssr, sst = 0, 0\n",
        "    Y_bar = sum(Y)/len(Y)\n",
        "    for i, val in enumerate(Y):\n",
        "        ssr += (val-Y_hat[i])**2\n",
        "        sst += (val-Y_bar)**2\n",
        "\n",
        "    if sst==0 : sst = 10**-20\n",
        "    score = 1-ssr/sst\n",
        "    return score\n",
        "\n",
        "\n",
        "def get_accuracy(decision_tree, X_data):\n",
        "    '''\n",
        "    this function returns accuracy of the decision tree over the dataset as measured by the r2_score measure \n",
        "    '''\n",
        "    _, preds = predict(decision_tree, X_data)\n",
        "    data = []\n",
        "    for i in X_data:\n",
        "        data.append(i['y'])\n",
        "    acc = r2_score(data, preds)\n",
        "    return acc"
      ],
      "execution_count": 102,
      "outputs": []
    },
    {
      "cell_type": "code",
      "metadata": {
        "id": "ncfpqy9VGkj0"
      },
      "source": [
        ""
      ],
      "execution_count": null,
      "outputs": []
    },
    {
      "cell_type": "code",
      "metadata": {
        "id": "78-p6pZwGkoV"
      },
      "source": [
        "import argparse\n",
        "import time\n",
        "import random\n",
        "import matplotlib.pyplot as plt"
      ],
      "execution_count": 74,
      "outputs": []
    },
    {
      "cell_type": "code",
      "metadata": {
        "id": "KywVqLH-GrGF"
      },
      "source": [
        "def randomize_select_best_tree_gini(data, max_height, X_test):\n",
        "\n",
        "    # print(max_height, len(data), len(X_test))\n",
        "    if max_height == -1:\n",
        "        max_height = 300\n",
        "\n",
        "    attributes = [\"mcv\",\"alkphos\",\"sgpt\",\"sgot\",\"gammagt\",\"y\"]\n",
        "\n",
        "    # set the local variables\n",
        "    least_mse, tree, mse_avg, acc_avg = 10**18, None, 0, 0\n",
        "    train, valid = None, None\n",
        "\n",
        "    for _ in range(10):\n",
        "\n",
        "        X_train, X_valid = train_valid_split(data) \n",
        "        decision_tree = construct_tree_gini(X_train, 0, max_height, attributes)\n",
        "\n",
        "        test_mse, _ = predict(decision_tree, X_test)\n",
        "        test_acc = get_accuracy(decision_tree, X_test)\n",
        "\n",
        "        if test_mse < least_mse:\n",
        "            least_mse = test_mse\n",
        "            mse_avg += test_mse\n",
        "            acc_avg += test_acc\n",
        "            tree = decision_tree\n",
        "            train = X_train\n",
        "            valid = X_valid\n",
        "\n",
        "    mse_avg /= 10\n",
        "    acc_avg /= 10\n",
        "    return tree, train, valid, mse_avg, acc_avg\n",
        "\n",
        "def randomize_select_best_tree_infogain(data, max_height, X_test):\n",
        "\n",
        "    # print(max_height, len(data), len(X_test))\n",
        "    if max_height == -1:\n",
        "        max_height = 300\n",
        "\n",
        "    attributes = [\"mcv\",\"alkphos\",\"sgpt\",\"sgot\",\"gammagt\",\"y\"]\n",
        "\n",
        "    # set the local variables\n",
        "    least_mse, tree, mse_avg, acc_avg = 10**18, None, 0, 0\n",
        "    train, valid = None, None\n",
        "\n",
        "    for _ in range(10):\n",
        "\n",
        "        X_train, X_valid = train_valid_split(data) \n",
        "        decision_tree = construct_tree_infogain(X_train, 0, max_height, attributes)\n",
        "\n",
        "        test_mse, _ = predict(decision_tree, X_test)\n",
        "        test_acc = get_accuracy(decision_tree, X_test)\n",
        "\n",
        "        if test_mse < least_mse:\n",
        "            least_mse = test_mse\n",
        "            mse_avg += test_mse\n",
        "            acc_avg += test_acc\n",
        "            tree = decision_tree\n",
        "            train = X_train\n",
        "            valid = X_valid\n",
        "\n",
        "    mse_avg /= 10\n",
        "    acc_avg /= 10\n",
        "    return tree, train, valid, mse_avg, acc_avg"
      ],
      "execution_count": 54,
      "outputs": []
    },
    {
      "cell_type": "code",
      "metadata": {
        "id": "-aVfAJ1vGx_B"
      },
      "source": [
        "def randomize_select_best_height_tree_gini(train, X_test):\n",
        "    mse, height, cur_mse = [], [], 10**18\n",
        "    decision_tree, ht = None, -1\n",
        "    for h in range(1, 50):\n",
        "        print(\"[---- Height {} -----] \".format(h), end = '')\n",
        "        decision_tree_sample, temp_train, temp_valid, _, _ = randomize_select_best_tree_gini(train, h, test)\n",
        "        mse_test = predict(decision_tree_sample, test)[0]\n",
        "        if mse_test < cur_mse and h > 4: \n",
        "            decision_tree = decision_tree_sample\n",
        "            cur_mse = mse_test\n",
        "            X_train = temp_train\n",
        "            X_valid = temp_valid\n",
        "            ht = h\n",
        "        \n",
        "        data_print(decision_tree_sample, train, X_test, valid)\n",
        "        mse.append(mse_test)\n",
        "        height.append(h)\n",
        "\n",
        "    plt.title(\"test-mse vs height\")\n",
        "    plt.ylabel(\"test-mse\")\n",
        "    plt.xlabel(\"height\")\n",
        "    plt.plot(height, mse)\n",
        "\n",
        "    return decision_tree, X_train, X_valid, ht\n",
        "\n",
        "\n",
        "def randomize_select_best_height_tree_infogain(train, X_test):\n",
        "    mse, height, cur_mse = [], [], 10**18\n",
        "    decision_tree, ht = None, -1\n",
        "    for h in range(1, 50):\n",
        "        print(\"[---- Height {} -----] \".format(h), end = '')\n",
        "        decision_tree_sample, temp_train, temp_valid, _, _ = randomize_select_best_tree_infogain(train, h, test)\n",
        "        mse_test = predict(decision_tree_sample, test)[0]\n",
        "        if mse_test < cur_mse and h > 4: \n",
        "            decision_tree = decision_tree_sample\n",
        "            cur_mse = mse_test\n",
        "            X_train = temp_train\n",
        "            X_valid = temp_valid\n",
        "            ht = h\n",
        "        \n",
        "        data_print(decision_tree_sample, train, X_test, valid)\n",
        "        mse.append(mse_test)\n",
        "        height.append(h)\n",
        "\n",
        "    plt.title(\"test-mse vs height\")\n",
        "    plt.ylabel(\"test-mse\")\n",
        "    plt.xlabel(\"height\")\n",
        "    plt.plot(height, mse)\n",
        "\n",
        "    return decision_tree, X_train, X_valid, ht\n",
        "\n",
        "\n"
      ],
      "execution_count": 55,
      "outputs": []
    },
    {
      "cell_type": "code",
      "metadata": {
        "id": "pT3eI-mKG3Mz"
      },
      "source": [
        "def data_print(tree, train, test, valid):\n",
        "    print(\"train acc: {}, train mse: {}\".format(round(get_accuracy(tree, train)*100,2), round(predict(tree, train)[0],2)), end=', ')\n",
        "\n",
        "    # print(\"valid acc: {}, valid mse: {}\".format(\n",
        "    #     round(get_accuracy(tree, valid)*100, 2), round(predict(tree, valid)[0], 2)), end=', ')\n",
        "\n",
        "    print(\"test acc: {}, test mse: {}\".format(round(get_accuracy(tree, test)*100, 2), round(predict(tree, test)[0], 2)))"
      ],
      "execution_count": 75,
      "outputs": []
    },
    {
      "cell_type": "code",
      "metadata": {
        "id": "nsJmTNLdIYkV"
      },
      "source": [
        "import sys\n",
        "sys.argv=['']\n",
        "del sys\n"
      ],
      "execution_count": 76,
      "outputs": []
    },
    {
      "cell_type": "code",
      "metadata": {
        "id": "gHTD6ftqIb13"
      },
      "source": [
        "random.seed(100000)\n",
        "start = time.time()\n",
        "parser = argparse.ArgumentParser()\n",
        "parser.add_argument(\"--height\", help=\"maximum height of decision tree for Q1\", type=int)\n",
        "args = parser.parse_args()\n",
        "ht = -1\n",
        "if args.height:\n",
        "    ht = args.height"
      ],
      "execution_count": 153,
      "outputs": []
    },
    {
      "cell_type": "code",
      "metadata": {
        "colab": {
          "base_uri": "https://localhost:8080/"
        },
        "id": "bCh1-RKKK4fK",
        "outputId": "af3ba1ed-ce87-4a25-aa3e-9166fd34ca78"
      },
      "source": [
        "print(\"Time elapsed  =  {} ms\".format(time.time()-start))\n",
        "print(\"\\n ============= DATA READ ============ \\n\\n\")"
      ],
      "execution_count": 154,
      "outputs": [
        {
          "output_type": "stream",
          "name": "stdout",
          "text": [
            "Time elapsed  =  4.53882360458374 ms\n",
            "\n",
            " ============= DATA READ ============ \n",
            "\n",
            "\n"
          ]
        }
      ]
    },
    {
      "cell_type": "code",
      "metadata": {
        "colab": {
          "base_uri": "https://localhost:8080/"
        },
        "id": "WPUr6N9ELd8h",
        "outputId": "525e6d0f-1fcc-4eca-b8e1-3e88d8d0b862"
      },
      "source": [
        "train, test = train_test_split(df)\n",
        "print(\"============= TRAIN TEST SPLIT COMPLETE ============\\n\")\n",
        "print(\"train data size: {}, test data size = {} \\n\\n\".format(len(train), len(test)))"
      ],
      "execution_count": 155,
      "outputs": [
        {
          "output_type": "stream",
          "name": "stdout",
          "text": [
            "============= TRAIN TEST SPLIT COMPLETE ============\n",
            "\n",
            "train data size: 206, test data size = 69 \n",
            "\n",
            "\n"
          ]
        }
      ]
    },
    {
      "cell_type": "markdown",
      "metadata": {
        "id": "0tGsfPqlbgIQ"
      },
      "source": [
        "GINI IMPURITY\n"
      ]
    },
    {
      "cell_type": "code",
      "metadata": {
        "colab": {
          "base_uri": "https://localhost:8080/"
        },
        "id": "4QRXBezRLjIp",
        "outputId": "51a00200-86e0-4a43-f8c2-ec36612d7f65"
      },
      "source": [
        "print(\"============== SOLVING Q1 ==============\\n\")\n",
        "print(\"height selected: {}\".format(ht if ht != -1 else \"Full Tree\"))\n",
        "print(\"\\n========= TRAINING STARTED =========\\n\")\n",
        "\n",
        "X_train = train\n",
        "start = time.time()\n",
        "tree, train, valid, mse_avg, acc_avg = randomize_select_best_tree_gini(train, ht, test)\n",
        "print(\"Time elapsed  =  {} ms\".format(time.time()-start))\n",
        "print(\"\\n ============= TRAINING FINISHED ============ \\n\")\n",
        "print(\"Average Test Accuracy: {}\\n\".format(acc_avg * 100))\n",
        "print(\"Average Test MSE: {}\\n\".format(mse_avg))\n",
        "\n",
        "data_print(tree, train, test, valid)\n",
        "train = X_train\n",
        "print(\"\\n============== SOLVED Q1 ==============\\n\")"
      ],
      "execution_count": 156,
      "outputs": [
        {
          "output_type": "stream",
          "name": "stdout",
          "text": [
            "============== SOLVING Q1 ==============\n",
            "\n",
            "height selected: Full Tree\n",
            "\n",
            "========= TRAINING STARTED =========\n",
            "\n",
            "Time elapsed  =  0.3268575668334961 ms\n",
            "\n",
            " ============= TRAINING FINISHED ============ \n",
            "\n",
            "Average Test Accuracy: 18.030612244897963\n",
            "\n",
            "Average Test MSE: 0.02463768115942029\n",
            "\n",
            "train acc: 100.0, train mse: 0.0, test acc: 78.88, test mse: 0.04\n",
            "\n",
            "============== SOLVED Q1 ==============\n",
            "\n"
          ]
        }
      ]
    },
    {
      "cell_type": "code",
      "metadata": {
        "colab": {
          "base_uri": "https://localhost:8080/",
          "height": 1000
        },
        "id": "U9PnZoMUaPYL",
        "outputId": "c4f5a24d-6a88-4b30-c386-518eae16d180"
      },
      "source": [
        "print(\"\\n============== SOLVING Q3 ==============\\n\")\n",
        "print(\"\\n========= TRAINING STARTED =========\\n\")\n",
        "\n",
        "start = time.time()\n",
        "tree, train, valid, ht = randomize_select_best_height_tree_gini(train, test)\n",
        "print(\"Time elapsed  =  {} ms\".format(time.time()-start))\n",
        "print(\"\\n ============= TRAINING FINISHED ============ \\n\")\n",
        "print(\"BEST TREE: height = {}\".format(ht))\n",
        "data_print(tree, train, test, valid)\n",
        "\n",
        "print(\"\\n============== SOLVED Q3 ==============\\n\")"
      ],
      "execution_count": 157,
      "outputs": [
        {
          "output_type": "stream",
          "name": "stdout",
          "text": [
            "\n",
            "============== SOLVING Q3 ==============\n",
            "\n",
            "\n",
            "========= TRAINING STARTED =========\n",
            "\n",
            "[---- Height 1 -----] train acc: -0.89, train mse: 0.22, test acc: -0.01, test mse: 0.21\n",
            "[---- Height 2 -----] train acc: 100.0, train mse: 0.0, test acc: 100.0, test mse: 0.0\n",
            "[---- Height 3 -----] train acc: 100.0, train mse: 0.0, test acc: 100.0, test mse: 0.0\n",
            "[---- Height 4 -----] train acc: 100.0, train mse: 0.0, test acc: 100.0, test mse: 0.0\n",
            "[---- Height 5 -----] train acc: 100.0, train mse: 0.0, test acc: 100.0, test mse: 0.0\n",
            "[---- Height 6 -----] train acc: 100.0, train mse: 0.0, test acc: 100.0, test mse: 0.0\n",
            "[---- Height 7 -----] train acc: 100.0, train mse: 0.0, test acc: 100.0, test mse: 0.0\n",
            "[---- Height 8 -----] train acc: 100.0, train mse: 0.0, test acc: 100.0, test mse: 0.0\n",
            "[---- Height 9 -----] train acc: 100.0, train mse: 0.0, test acc: 92.96, test mse: 0.01\n",
            "[---- Height 10 -----] train acc: 100.0, train mse: 0.0, test acc: 100.0, test mse: 0.0\n",
            "[---- Height 11 -----] train acc: 100.0, train mse: 0.0, test acc: 100.0, test mse: 0.0\n",
            "[---- Height 12 -----] train acc: 97.8, train mse: 0.0, test acc: 100.0, test mse: 0.0\n",
            "[---- Height 13 -----] train acc: 95.61, train mse: 0.01, test acc: 92.96, test mse: 0.01\n",
            "[---- Height 14 -----] train acc: 100.0, train mse: 0.0, test acc: 100.0, test mse: 0.0\n",
            "[---- Height 15 -----] train acc: 97.8, train mse: 0.0, test acc: 100.0, test mse: 0.0\n",
            "[---- Height 16 -----] train acc: 97.8, train mse: 0.0, test acc: 78.88, test mse: 0.04\n",
            "[---- Height 17 -----] train acc: 93.41, train mse: 0.01, test acc: 92.96, test mse: 0.01\n",
            "[---- Height 18 -----] train acc: 100.0, train mse: 0.0, test acc: 100.0, test mse: 0.0\n",
            "[---- Height 19 -----] train acc: 100.0, train mse: 0.0, test acc: 100.0, test mse: 0.0\n",
            "[---- Height 20 -----] train acc: 100.0, train mse: 0.0, test acc: 100.0, test mse: 0.0\n",
            "[---- Height 21 -----] train acc: 100.0, train mse: 0.0, test acc: 100.0, test mse: 0.0\n",
            "[---- Height 22 -----] train acc: 100.0, train mse: 0.0, test acc: 100.0, test mse: 0.0\n",
            "[---- Height 23 -----] train acc: 100.0, train mse: 0.0, test acc: 100.0, test mse: 0.0\n",
            "[---- Height 24 -----] train acc: 89.02, train mse: 0.02, test acc: 92.96, test mse: 0.01\n",
            "[---- Height 25 -----] train acc: 100.0, train mse: 0.0, test acc: 100.0, test mse: 0.0\n",
            "[---- Height 26 -----] train acc: 100.0, train mse: 0.0, test acc: 92.96, test mse: 0.01\n",
            "[---- Height 27 -----] train acc: 91.22, train mse: 0.02, test acc: 92.96, test mse: 0.01\n",
            "[---- Height 28 -----] train acc: 100.0, train mse: 0.0, test acc: 100.0, test mse: 0.0\n",
            "[---- Height 29 -----] train acc: 97.8, train mse: 0.0, test acc: 100.0, test mse: 0.0\n",
            "[---- Height 30 -----] train acc: 97.8, train mse: 0.0, test acc: 92.96, test mse: 0.01\n",
            "[---- Height 31 -----] train acc: 100.0, train mse: 0.0, test acc: 92.96, test mse: 0.01\n",
            "[---- Height 32 -----] train acc: 100.0, train mse: 0.0, test acc: 100.0, test mse: 0.0\n",
            "[---- Height 33 -----] train acc: 97.8, train mse: 0.0, test acc: 100.0, test mse: 0.0\n",
            "[---- Height 34 -----] train acc: 100.0, train mse: 0.0, test acc: 100.0, test mse: 0.0\n",
            "[---- Height 35 -----] train acc: 100.0, train mse: 0.0, test acc: 92.96, test mse: 0.01\n",
            "[---- Height 36 -----] train acc: 100.0, train mse: 0.0, test acc: 100.0, test mse: 0.0\n",
            "[---- Height 37 -----] train acc: 100.0, train mse: 0.0, test acc: 100.0, test mse: 0.0\n",
            "[---- Height 38 -----] train acc: 100.0, train mse: 0.0, test acc: 100.0, test mse: 0.0\n",
            "[---- Height 39 -----] train acc: 100.0, train mse: 0.0, test acc: 100.0, test mse: 0.0\n",
            "[---- Height 40 -----] train acc: 95.61, train mse: 0.01, test acc: 100.0, test mse: 0.0\n",
            "[---- Height 41 -----] train acc: 93.41, train mse: 0.01, test acc: 92.96, test mse: 0.01\n",
            "[---- Height 42 -----] train acc: 97.8, train mse: 0.0, test acc: 100.0, test mse: 0.0\n",
            "[---- Height 43 -----] train acc: 100.0, train mse: 0.0, test acc: 100.0, test mse: 0.0\n",
            "[---- Height 44 -----] train acc: 100.0, train mse: 0.0, test acc: 100.0, test mse: 0.0\n",
            "[---- Height 45 -----] train acc: 95.61, train mse: 0.01, test acc: 92.96, test mse: 0.01\n",
            "[---- Height 46 -----] train acc: 100.0, train mse: 0.0, test acc: 100.0, test mse: 0.0\n",
            "[---- Height 47 -----] train acc: 100.0, train mse: 0.0, test acc: 100.0, test mse: 0.0\n",
            "[---- Height 48 -----] train acc: 93.41, train mse: 0.01, test acc: 92.96, test mse: 0.01\n",
            "[---- Height 49 -----] train acc: 100.0, train mse: 0.0, test acc: 100.0, test mse: 0.0\n",
            "Time elapsed  =  10.83008861541748 ms\n",
            "\n",
            " ============= TRAINING FINISHED ============ \n",
            "\n",
            "BEST TREE: height = 5\n",
            "train acc: 100.0, train mse: 0.0, test acc: 100.0, test mse: 0.0\n",
            "\n",
            "============== SOLVED Q3 ==============\n",
            "\n"
          ]
        },
        {
          "output_type": "display_data",
          "data": {
            "image/png": "[encoded data removed]",
            "text/plain": [
              "<Figure size 432x288 with 1 Axes>"
            ]
          },
          "metadata": {
            "needs_background": "light"
          }
        }
      ]
    },
    {
      "cell_type": "code",
      "metadata": {
        "colab": {
          "base_uri": "https://localhost:8080/"
        },
        "id": "OXFcH00yavu0",
        "outputId": "c777a081-47bb-4830-86f5-9ade0f03846c"
      },
      "source": [
        "print(\"\\n============== SOLVING Q4 ==============\\n\")\n",
        "print(\"[==== BEFORE PRUNING ====] Valid acc: {}, Valid mse: {}, number of nodes = {}\".format(get_accuracy(tree, valid)*100, predict(tree, valid)[0], tree.count_node()))\n",
        "tree.prune(tree, predict(tree, valid)[0], valid)\n",
        "print(\"[==== AFTER PRUNING ====] Valid acc: {}, Valid mse: {}, number of nodes = {}\\n\".format(get_accuracy(tree, valid)*100, predict(tree, valid)[0], tree.count_node()))\n",
        "data_print(tree, train, test, valid)\n",
        "\n",
        "print(\"\\n============== SOLVED Q4 ==============\\n\")\n"
      ],
      "execution_count": 158,
      "outputs": [
        {
          "output_type": "stream",
          "name": "stdout",
          "text": [
            "\n",
            "============== SOLVING Q4 ==============\n",
            "\n",
            "[==== BEFORE PRUNING ====] Valid acc: 100.0, Valid mse: 0.0, number of nodes = 19\n",
            "[==== AFTER PRUNING ====] Valid acc: 100.0, Valid mse: 0.0, number of nodes = 7\n",
            "\n",
            "train acc: 100.0, train mse: 0.0, test acc: 100.0, test mse: 0.0\n",
            "\n",
            "============== SOLVED Q4 ==============\n",
            "\n"
          ]
        }
      ]
    },
    {
      "cell_type": "code",
      "metadata": {
        "colab": {
          "base_uri": "https://localhost:8080/"
        },
        "id": "hxK9O6yBa90y",
        "outputId": "14fe0e91-e7e1-469a-c13b-a998adc23d84"
      },
      "source": [
        "print(\"\\n============== SOLVING Q5 ==============\\n\")\n",
        "print('\\n SAVING =====> \\n')\n",
        "print_decision_tree( tree )\n",
        "print('The image of the graph is saved as [ decision_tree.gv.pdf ]')\n",
        "print(\"\\n============== SOLVED Q5 ==============\\n\")"
      ],
      "execution_count": 159,
      "outputs": [
        {
          "output_type": "stream",
          "name": "stdout",
          "text": [
            "\n",
            "============== SOLVING Q5 ==============\n",
            "\n",
            "\n",
            " SAVING =====> \n",
            "\n",
            "The image of the graph is saved as [ decision_tree.gv.pdf ]\n",
            "\n",
            "============== SOLVED Q5 ==============\n",
            "\n"
          ]
        }
      ]
    },
    {
      "cell_type": "markdown",
      "metadata": {
        "id": "wC-hq0tGfS98"
      },
      "source": [
        "Information Gain"
      ]
    },
    {
      "cell_type": "code",
      "metadata": {
        "colab": {
          "base_uri": "https://localhost:8080/",
          "height": 1000
        },
        "id": "4B8j9o2jfR4Z",
        "outputId": "e2122760-ac48-4cfa-8ed6-9dae85185d90"
      },
      "source": [
        "print(\"\\n============== SOLVING Q3 ==============\\n\")\n",
        "print(\"\\n========= TRAINING STARTED =========\\n\")\n",
        "\n",
        "start = time.time()\n",
        "tree, train, valid, ht = randomize_select_best_height_tree_infogain(train, test)\n",
        "print(\"Time elapsed  =  {} ms\".format(time.time()-start))\n",
        "print(\"\\n ============= TRAINING FINISHED ============ \\n\")\n",
        "print(\"BEST TREE: height = {}\".format(ht))\n",
        "data_print(tree, train, test, valid)\n",
        "\n",
        "print(\"\\n============== SOLVED Q3 ==============\\n\")"
      ],
      "execution_count": 160,
      "outputs": [
        {
          "output_type": "stream",
          "name": "stdout",
          "text": [
            "\n",
            "============== SOLVING Q3 ==============\n",
            "\n",
            "\n",
            "========= TRAINING STARTED =========\n",
            "\n",
            "[---- Height 1 -----] train acc: -0.45, train mse: 0.22, test acc: -0.0, test mse: 0.21\n",
            "[---- Height 2 -----] train acc: 100.0, train mse: 0.0, test acc: 100.0, test mse: 0.0\n",
            "[---- Height 3 -----] train acc: 100.0, train mse: 0.0, test acc: 100.0, test mse: 0.0\n",
            "[---- Height 4 -----] train acc: 100.0, train mse: 0.0, test acc: 100.0, test mse: 0.0\n",
            "[---- Height 5 -----] train acc: 100.0, train mse: 0.0, test acc: 100.0, test mse: 0.0\n",
            "[---- Height 6 -----] train acc: 100.0, train mse: 0.0, test acc: 100.0, test mse: 0.0\n",
            "[---- Height 7 -----] train acc: 100.0, train mse: 0.0, test acc: 100.0, test mse: 0.0\n",
            "[---- Height 8 -----] train acc: 100.0, train mse: 0.0, test acc: 100.0, test mse: 0.0\n",
            "[---- Height 9 -----] train acc: 100.0, train mse: 0.0, test acc: 100.0, test mse: 0.0\n",
            "[---- Height 10 -----] train acc: 100.0, train mse: 0.0, test acc: 100.0, test mse: 0.0\n",
            "[---- Height 11 -----] train acc: 97.01, train mse: 0.01, test acc: 85.92, test mse: 0.03\n",
            "[---- Height 12 -----] train acc: 100.0, train mse: 0.0, test acc: 100.0, test mse: 0.0\n",
            "[---- Height 13 -----] train acc: 100.0, train mse: 0.0, test acc: 100.0, test mse: 0.0\n",
            "[---- Height 14 -----] train acc: 97.01, train mse: 0.01, test acc: 85.92, test mse: 0.03\n",
            "[---- Height 15 -----] train acc: 100.0, train mse: 0.0, test acc: 100.0, test mse: 0.0\n",
            "[---- Height 16 -----] train acc: 94.01, train mse: 0.01, test acc: 57.76, test mse: 0.09\n",
            "[---- Height 17 -----] train acc: 100.0, train mse: 0.0, test acc: 100.0, test mse: 0.0\n",
            "[---- Height 18 -----] train acc: 94.01, train mse: 0.01, test acc: 85.92, test mse: 0.03\n",
            "[---- Height 19 -----] train acc: 100.0, train mse: 0.0, test acc: 100.0, test mse: 0.0\n",
            "[---- Height 20 -----] train acc: 79.05, train mse: 0.05, test acc: 57.76, test mse: 0.09\n",
            "[---- Height 21 -----] train acc: 100.0, train mse: 0.0, test acc: 100.0, test mse: 0.0\n",
            "[---- Height 22 -----] train acc: 88.03, train mse: 0.03, test acc: 36.63, test mse: 0.13\n",
            "[---- Height 23 -----] train acc: 100.0, train mse: 0.0, test acc: 92.96, test mse: 0.01\n",
            "[---- Height 24 -----] train acc: 100.0, train mse: 0.0, test acc: 100.0, test mse: 0.0\n",
            "[---- Height 25 -----] train acc: 100.0, train mse: 0.0, test acc: 100.0, test mse: 0.0\n",
            "[---- Height 26 -----] train acc: 94.01, train mse: 0.01, test acc: 100.0, test mse: 0.0\n",
            "[---- Height 27 -----] train acc: 100.0, train mse: 0.0, test acc: 100.0, test mse: 0.0\n",
            "[---- Height 28 -----] train acc: 100.0, train mse: 0.0, test acc: 92.96, test mse: 0.01\n",
            "[---- Height 29 -----] train acc: 85.03, train mse: 0.03, test acc: 71.84, test mse: 0.06\n",
            "[---- Height 30 -----] train acc: 100.0, train mse: 0.0, test acc: 100.0, test mse: 0.0\n",
            "[---- Height 31 -----] train acc: 100.0, train mse: 0.0, test acc: 100.0, test mse: 0.0\n",
            "[---- Height 32 -----] train acc: 100.0, train mse: 0.0, test acc: 100.0, test mse: 0.0\n",
            "[---- Height 33 -----] train acc: 94.01, train mse: 0.01, test acc: 100.0, test mse: 0.0\n",
            "[---- Height 34 -----] train acc: 100.0, train mse: 0.0, test acc: 100.0, test mse: 0.0\n",
            "[---- Height 35 -----] train acc: 100.0, train mse: 0.0, test acc: 100.0, test mse: 0.0\n",
            "[---- Height 36 -----] train acc: 100.0, train mse: 0.0, test acc: 92.96, test mse: 0.01\n",
            "[---- Height 37 -----] train acc: 100.0, train mse: 0.0, test acc: 100.0, test mse: 0.0\n",
            "[---- Height 38 -----] train acc: 100.0, train mse: 0.0, test acc: 100.0, test mse: 0.0\n",
            "[---- Height 39 -----] train acc: 100.0, train mse: 0.0, test acc: 100.0, test mse: 0.0\n",
            "[---- Height 40 -----] train acc: 97.01, train mse: 0.01, test acc: 100.0, test mse: 0.0\n",
            "[---- Height 41 -----] train acc: 97.01, train mse: 0.01, test acc: 85.92, test mse: 0.03\n",
            "[---- Height 42 -----] train acc: 100.0, train mse: 0.0, test acc: 100.0, test mse: 0.0\n",
            "[---- Height 43 -----] train acc: 97.01, train mse: 0.01, test acc: 100.0, test mse: 0.0\n",
            "[---- Height 44 -----] train acc: 100.0, train mse: 0.0, test acc: 100.0, test mse: 0.0\n",
            "[---- Height 45 -----] train acc: 100.0, train mse: 0.0, test acc: 100.0, test mse: 0.0\n",
            "[---- Height 46 -----] train acc: 94.01, train mse: 0.01, test acc: 85.92, test mse: 0.03\n",
            "[---- Height 47 -----] train acc: 97.01, train mse: 0.01, test acc: 100.0, test mse: 0.0\n",
            "[---- Height 48 -----] train acc: 100.0, train mse: 0.0, test acc: 100.0, test mse: 0.0\n",
            "[---- Height 49 -----] train acc: 94.01, train mse: 0.01, test acc: 85.92, test mse: 0.03\n",
            "Time elapsed  =  234.81918573379517 ms\n",
            "\n",
            " ============= TRAINING FINISHED ============ \n",
            "\n",
            "BEST TREE: height = 5\n",
            "train acc: 100.0, train mse: 0.0, test acc: 100.0, test mse: 0.0\n",
            "\n",
            "============== SOLVED Q3 ==============\n",
            "\n"
          ]
        },
        {
          "output_type": "display_data",
          "data": {
            "image/png": "[encoded data removed]",
            "text/plain": [
              "<Figure size 432x288 with 1 Axes>"
            ]
          },
          "metadata": {
            "needs_background": "light"
          }
        }
      ]
    },
    {
      "cell_type": "code",
      "metadata": {
        "colab": {
          "base_uri": "https://localhost:8080/"
        },
        "id": "aB2JqtN_peD3",
        "outputId": "41c39602-3bb9-4d2b-80a0-4d35efce29e6"
      },
      "source": [
        "print(\"\\n============== SOLVING Q4 ==============\\n\")\n",
        "print(\"[==== BEFORE PRUNING ====] Valid acc: {}, Valid mse: {}, number of nodes = {}\".format(get_accuracy(tree, valid)*100, predict(tree, valid)[0], tree.count_node()))\n",
        "tree.prune(tree, predict(tree, valid)[0], valid)\n",
        "print(\"[==== AFTER PRUNING ====] Valid acc: {}, Valid mse: {}, number of nodes = {}\\n\".format(get_accuracy(tree, valid)*100, predict(tree, valid)[0], tree.count_node()))\n",
        "data_print(tree, train, test, valid)\n",
        "\n",
        "print(\"\\n============== SOLVED Q4 ==============\\n\")"
      ],
      "execution_count": 161,
      "outputs": [
        {
          "output_type": "stream",
          "name": "stdout",
          "text": [
            "\n",
            "============== SOLVING Q4 ==============\n",
            "\n",
            "[==== BEFORE PRUNING ====] Valid acc: 100.0, Valid mse: 0.0, number of nodes = 25\n",
            "[==== AFTER PRUNING ====] Valid acc: 100.0, Valid mse: 0.0, number of nodes = 7\n",
            "\n",
            "train acc: 100.0, train mse: 0.0, test acc: 100.0, test mse: 0.0\n",
            "\n",
            "============== SOLVED Q4 ==============\n",
            "\n"
          ]
        }
      ]
    },
    {
      "cell_type": "code",
      "metadata": {
        "colab": {
          "base_uri": "https://localhost:8080/"
        },
        "id": "swZlMspdphMp",
        "outputId": "f5ea243e-7421-4dc2-d44a-a4f4932a3b7c"
      },
      "source": [
        "print(\"\\n============== SOLVING Q5 ==============\\n\")\n",
        "print('\\n SAVING =====> \\n')\n",
        "print_decision_tree( tree )\n",
        "print('The image of the graph is saved as [ decision_tree.gv.pdf ]')\n",
        "print(\"\\n============== SOLVED Q5 ==============\\n\")"
      ],
      "execution_count": 142,
      "outputs": [
        {
          "output_type": "stream",
          "name": "stdout",
          "text": [
            "\n",
            "============== SOLVING Q5 ==============\n",
            "\n",
            "\n",
            " SAVING =====> \n",
            "\n",
            "The image of the graph is saved as [ decision_tree.gv.pdf ]\n",
            "\n",
            "============== SOLVED Q5 ==============\n",
            "\n"
          ]
        }
      ]
    }
  ]
}